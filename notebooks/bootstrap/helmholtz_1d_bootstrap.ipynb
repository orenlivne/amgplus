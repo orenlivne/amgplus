{
 "cells": [
  {
   "cell_type": "markdown",
   "id": "attached-category",
   "metadata": {},
   "source": [
    "# Helmholtz 1D - Bootstrap on a Fixed Domain Size\n",
    "\n",
    "## Goal\n",
    "Given the Helhmholtz operator $A = -\\Delta + k^2 I$, find **test functions** $x$ of unit $l_2$ norm with small $\\|A x\\|$; i.e., near-null-space components, on a periodic domain, with constant $k$.\n",
    "\n",
    "To this end, we generate test functions that approximately solve $A x = \\lambda x$, where $\\lambda$ is the minimum eigenvalue.\n",
    "\n",
    "## Discretization\n",
    "We use the 3-point finite difference $A^h = [1, -2 + (kh)^2, 1]$. In this experiment we use a fixed periodic domain with $n=16$ points and a small $kh=0.5$. The final grid on the large domain will have a much smaller $kh$ to yield a good discretization, but as we coarsen it $kh$ increases, so this simulates the level where we already see waves (2 coarse variables per aggregate)."
   ]
  },
  {
   "cell_type": "code",
   "execution_count": 1,
   "id": "related-collect",
   "metadata": {},
   "outputs": [],
   "source": [
    "import logging\n",
    "import numpy as np\n",
    "import helmholtz as hm\n",
    "import pandas as pd\n",
    "import matplotlib.pyplot as plt\n",
    "import sklearn.metrics.pairwise\n",
    "import sys\n",
    "from numpy.ma.testutils import assert_array_almost_equal\n",
    "from numpy.linalg import eig, norm\n",
    "\n",
    "%load_ext autoreload\n",
    "%autoreload 2\n",
    "\n",
    "np.set_printoptions(linewidth=500, precision=2, suppress=False)\n",
    "for handler in logging.root.handlers[:]: logging.root.removeHandler(handler)\n",
    "logging.basicConfig(stream=sys.stdout, level=logging.DEBUG, format=\"%(levelname)-8s %(message)s\",\n",
    "                    datefmt=\"%a, %d %b %Y %H:%M:%S\")"
   ]
  },
  {
   "cell_type": "markdown",
   "id": "anticipated-guest",
   "metadata": {},
   "source": [
    "## 1-Level"
   ]
  },
  {
   "cell_type": "markdown",
   "id": "swedish-bookmark",
   "metadata": {},
   "source": [
    "### Exact Eigenpairs\n",
    "There are 3 positive eigenvalues, corresponding to the constant, left wave and right wave. $\\lambda_1$ happens to be a double eigenvalue. We will be attempting to find it and its corresponding eigenvectors $v_1, v_2$ (or combinations of them). "
   ]
  },
  {
   "cell_type": "code",
   "execution_count": 2,
   "id": "excessive-length",
   "metadata": {},
   "outputs": [],
   "source": [
    "def exact_eigenpair(a):\n",
    "    \"\"\"Returns the exact eigenpairs (v, lam) ((v[:, i], lam[i]) is the ith pair), sorted by\n",
    "    ascending|lam| value.\"\"\"\n",
    "    lam, v = eig(a.toarray())\n",
    "    lam = np.real(lam)\n",
    "    ind = np.argsort(np.abs(lam))\n",
    "    lam = lam[ind]\n",
    "    return v[:, ind], lam"
   ]
  },
  {
   "cell_type": "code",
   "execution_count": 3,
   "id": "streaming-auckland",
   "metadata": {},
   "outputs": [
    {
     "name": "stdout",
     "output_type": "stream",
     "text": [
      "A in some window\n",
      "[[-1.75  1.    0.    0.    0.  ]\n",
      " [ 1.   -1.75  1.    0.    0.  ]\n",
      " [ 0.    1.   -1.75  1.    0.  ]\n",
      " [ 0.    0.    1.   -1.75  1.  ]\n",
      " [ 0.    0.    0.    1.   -1.75]]\n"
     ]
    }
   ],
   "source": [
    "n = 16\n",
    "kh = 0.5\n",
    "a = hm.linalg.helmholtz_1d_operator(kh, n)\n",
    "print(\"A in some window\")\n",
    "print(a.toarray()[:5,:5])"
   ]
  },
  {
   "cell_type": "code",
   "execution_count": 4,
   "id": "corresponding-damage",
   "metadata": {},
   "outputs": [
    {
     "data": {
      "text/html": [
       "<div>\n",
       "<style scoped>\n",
       "    .dataframe tbody tr th:only-of-type {\n",
       "        vertical-align: middle;\n",
       "    }\n",
       "\n",
       "    .dataframe tbody tr th {\n",
       "        vertical-align: top;\n",
       "    }\n",
       "\n",
       "    .dataframe thead th {\n",
       "        text-align: right;\n",
       "    }\n",
       "</style>\n",
       "<table border=\"1\" class=\"dataframe\">\n",
       "  <thead>\n",
       "    <tr style=\"text-align: right;\">\n",
       "      <th></th>\n",
       "      <th>0</th>\n",
       "    </tr>\n",
       "  </thead>\n",
       "  <tbody>\n",
       "    <tr>\n",
       "      <th>0</th>\n",
       "      <td>0.097759</td>\n",
       "    </tr>\n",
       "    <tr>\n",
       "      <th>1</th>\n",
       "      <td>0.097759</td>\n",
       "    </tr>\n",
       "    <tr>\n",
       "      <th>2</th>\n",
       "      <td>0.250000</td>\n",
       "    </tr>\n",
       "    <tr>\n",
       "      <th>3</th>\n",
       "      <td>-0.335786</td>\n",
       "    </tr>\n",
       "    <tr>\n",
       "      <th>4</th>\n",
       "      <td>-0.335786</td>\n",
       "    </tr>\n",
       "    <tr>\n",
       "      <th>5</th>\n",
       "      <td>-0.984633</td>\n",
       "    </tr>\n",
       "    <tr>\n",
       "      <th>6</th>\n",
       "      <td>-0.984633</td>\n",
       "    </tr>\n",
       "    <tr>\n",
       "      <th>7</th>\n",
       "      <td>-1.750000</td>\n",
       "    </tr>\n",
       "    <tr>\n",
       "      <th>8</th>\n",
       "      <td>-1.750000</td>\n",
       "    </tr>\n",
       "    <tr>\n",
       "      <th>9</th>\n",
       "      <td>-2.515367</td>\n",
       "    </tr>\n",
       "    <tr>\n",
       "      <th>10</th>\n",
       "      <td>-2.515367</td>\n",
       "    </tr>\n",
       "    <tr>\n",
       "      <th>11</th>\n",
       "      <td>-3.164214</td>\n",
       "    </tr>\n",
       "    <tr>\n",
       "      <th>12</th>\n",
       "      <td>-3.164214</td>\n",
       "    </tr>\n",
       "    <tr>\n",
       "      <th>13</th>\n",
       "      <td>-3.597759</td>\n",
       "    </tr>\n",
       "    <tr>\n",
       "      <th>14</th>\n",
       "      <td>-3.597759</td>\n",
       "    </tr>\n",
       "    <tr>\n",
       "      <th>15</th>\n",
       "      <td>-3.750000</td>\n",
       "    </tr>\n",
       "  </tbody>\n",
       "</table>\n",
       "</div>"
      ],
      "text/plain": [
       "           0\n",
       "0   0.097759\n",
       "1   0.097759\n",
       "2   0.250000\n",
       "3  -0.335786\n",
       "4  -0.335786\n",
       "5  -0.984633\n",
       "6  -0.984633\n",
       "7  -1.750000\n",
       "8  -1.750000\n",
       "9  -2.515367\n",
       "10 -2.515367\n",
       "11 -3.164214\n",
       "12 -3.164214\n",
       "13 -3.597759\n",
       "14 -3.597759\n",
       "15 -3.750000"
      ]
     },
     "execution_count": 4,
     "metadata": {},
     "output_type": "execute_result"
    }
   ],
   "source": [
    "v, lam = exact_eigenpair(a)\n",
    "pd.DataFrame(lam)"
   ]
  },
  {
   "cell_type": "code",
   "execution_count": 6,
   "id": "ordinary-nomination",
   "metadata": {},
   "outputs": [
    {
     "data": {
      "image/png": "[encoded data removed]",
      "text/plain": [
       "<Figure size 432x288 with 1 Axes>"
      ]
     },
     "metadata": {
      "needs_background": "light"
     },
     "output_type": "display_data"
    }
   ],
   "source": [
    "for i in range(3):\n",
    "    plt.plot(v[:, i], label=\"$\\lambda_{} = {:.4f}$\".format(i, lam[i]))\n",
    "plt.legend();\n",
    "plt.grid(True);"
   ]
  },
  {
   "cell_type": "markdown",
   "id": "marine-soccer",
   "metadata": {},
   "source": [
    "## 1-Level Method\n",
    "To generate $K$ examples (i.e., a test matrix $x_{n \\times K}$), the 1-level method is the iteration\n",
    "* $\\nu$ Kaczmarz relaxation sweeps on $A x - \\lambda x = 0$ with fixed $\\lambda$.\n",
    "* Update $x \\longleftarrow x_k / (x_k^T x_k)^{\\frac12}$ for all $k$, $\\lambda \\longleftarrow mean_k((x_k^T A x_k)/(x_k^T x_k))$, where $x_k$ is the $k$th column of $x$.\n",
    "\n",
    "### Asymptotic Convergence\n",
    "We start from $x \\longleftarrow rand[-1,1], \\lambda \\longleftarrow 0$ and perform 1-level iterations."
   ]
  },
  {
   "cell_type": "code",
   "execution_count": 7,
   "id": "confidential-taxation",
   "metadata": {},
   "outputs": [
    {
     "ename": "TypeError",
     "evalue": "__init__() missing 1 required positional argument: 'finest_level'",
     "output_type": "error",
     "traceback": [
      "\u001b[0;31m---------------------------------------------------------------------------\u001b[0m",
      "\u001b[0;31mTypeError\u001b[0m                                 Traceback (most recent call last)",
      "\u001b[0;32m<ipython-input-7-a842c3e3ad61>\u001b[0m in \u001b[0;36m<module>\u001b[0;34m\u001b[0m\n\u001b[1;32m      3\u001b[0m \u001b[0ma\u001b[0m \u001b[0;34m=\u001b[0m \u001b[0mhm\u001b[0m\u001b[0;34m.\u001b[0m\u001b[0mlinalg\u001b[0m\u001b[0;34m.\u001b[0m\u001b[0mhelmholtz_1d_operator\u001b[0m\u001b[0;34m(\u001b[0m\u001b[0mkh\u001b[0m\u001b[0;34m,\u001b[0m \u001b[0mn\u001b[0m\u001b[0;34m)\u001b[0m\u001b[0;34m\u001b[0m\u001b[0;34m\u001b[0m\u001b[0m\n\u001b[1;32m      4\u001b[0m \u001b[0mlevel\u001b[0m \u001b[0;34m=\u001b[0m \u001b[0mhm\u001b[0m\u001b[0;34m.\u001b[0m\u001b[0mmultilevel\u001b[0m\u001b[0;34m.\u001b[0m\u001b[0mLevel\u001b[0m\u001b[0;34m.\u001b[0m\u001b[0mcreate_finest_level\u001b[0m\u001b[0;34m(\u001b[0m\u001b[0ma\u001b[0m\u001b[0;34m)\u001b[0m\u001b[0;34m\u001b[0m\u001b[0;34m\u001b[0m\u001b[0m\n\u001b[0;32m----> 5\u001b[0;31m \u001b[0mmultilevel\u001b[0m \u001b[0;34m=\u001b[0m \u001b[0mhm\u001b[0m\u001b[0;34m.\u001b[0m\u001b[0mmultilevel\u001b[0m\u001b[0;34m.\u001b[0m\u001b[0mMultilevel\u001b[0m\u001b[0;34m(\u001b[0m\u001b[0;34m)\u001b[0m\u001b[0;34m\u001b[0m\u001b[0;34m\u001b[0m\u001b[0m\n\u001b[0m\u001b[1;32m      6\u001b[0m \u001b[0mmultilevel\u001b[0m\u001b[0;34m.\u001b[0m\u001b[0mlevel\u001b[0m\u001b[0;34m.\u001b[0m\u001b[0mappend\u001b[0m\u001b[0;34m(\u001b[0m\u001b[0mlevel\u001b[0m\u001b[0;34m)\u001b[0m\u001b[0;34m\u001b[0m\u001b[0;34m\u001b[0m\u001b[0m\n",
      "\u001b[0;31mTypeError\u001b[0m: __init__() missing 1 required positional argument: 'finest_level'"
     ]
    }
   ],
   "source": [
    "n = 16\n",
    "kh = 0.5\n",
    "a = hm.linalg.helmholtz_1d_operator(kh, n)\n",
    "level =helmholtz.setup.multilevel.Level.create_finest_level(a)\n",
    "multilevel =helmholtz.setup.multilevel.Multilevel()\n",
    "multilevel.level.append(level)"
   ]
  },
  {
   "cell_type": "code",
   "execution_count": 8,
   "id": "civil-mongolia",
   "metadata": {},
   "outputs": [
    {
     "ename": "AttributeError",
     "evalue": "module 'helmholtz.multilevel' has no attribute 'random_test_matrix'",
     "output_type": "error",
     "traceback": [
      "\u001b[0;31m---------------------------------------------------------------------------\u001b[0m",
      "\u001b[0;31mAttributeError\u001b[0m                            Traceback (most recent call last)",
      "\u001b[0;32m<ipython-input-8-8776b03abbe2>\u001b[0m in \u001b[0;36m<module>\u001b[0;34m\u001b[0m\n\u001b[1;32m      6\u001b[0m \u001b[0;34m\u001b[0m\u001b[0m\n\u001b[1;32m      7\u001b[0m \u001b[0;32mfor\u001b[0m \u001b[0mnu\u001b[0m \u001b[0;32min\u001b[0m \u001b[0;34m(\u001b[0m\u001b[0;36m1\u001b[0m\u001b[0;34m,\u001b[0m \u001b[0;36m5\u001b[0m\u001b[0;34m,\u001b[0m \u001b[0;36m10\u001b[0m\u001b[0;34m,\u001b[0m \u001b[0;36m100\u001b[0m\u001b[0;34m)\u001b[0m\u001b[0;34m:\u001b[0m\u001b[0;34m\u001b[0m\u001b[0;34m\u001b[0m\u001b[0m\n\u001b[0;32m----> 8\u001b[0;31m     \u001b[0mx\u001b[0m \u001b[0;34m=\u001b[0m \u001b[0mhm\u001b[0m\u001b[0;34m.\u001b[0m\u001b[0mmultilevel\u001b[0m\u001b[0;34m.\u001b[0m\u001b[0mrandom_test_matrix\u001b[0m\u001b[0;34m(\u001b[0m\u001b[0;34m(\u001b[0m\u001b[0mn\u001b[0m\u001b[0;34m,\u001b[0m\u001b[0;34m)\u001b[0m\u001b[0;34m,\u001b[0m \u001b[0mnum_examples\u001b[0m\u001b[0;34m=\u001b[0m\u001b[0;36m10\u001b[0m\u001b[0;34m)\u001b[0m\u001b[0;34m\u001b[0m\u001b[0;34m\u001b[0m\u001b[0m\n\u001b[0m\u001b[1;32m      9\u001b[0m     \u001b[0mlevel\u001b[0m\u001b[0;34m.\u001b[0m\u001b[0mglobal_params\u001b[0m\u001b[0;34m.\u001b[0m\u001b[0mlam\u001b[0m \u001b[0;34m=\u001b[0m \u001b[0;36m0\u001b[0m\u001b[0;34m\u001b[0m\u001b[0;34m\u001b[0m\u001b[0m\n\u001b[1;32m     10\u001b[0m     \u001b[0mprint\u001b[0m\u001b[0;34m(\u001b[0m\u001b[0;34m\"nu {}\"\u001b[0m\u001b[0;34m.\u001b[0m\u001b[0mformat\u001b[0m\u001b[0;34m(\u001b[0m\u001b[0mnu\u001b[0m\u001b[0;34m)\u001b[0m\u001b[0;34m)\u001b[0m\u001b[0;34m\u001b[0m\u001b[0;34m\u001b[0m\u001b[0m\n",
      "\u001b[0;31mAttributeError\u001b[0m: module 'helmholtz.multilevel' has no attribute 'random_test_matrix'"
     ]
    }
   ],
   "source": [
    "# Run enough Kaczmarz relaxations per lambda update (not just 1 relaxation) so we converge to the minimal one.\n",
    "num_iters = 10\n",
    "\n",
    "logger = logging.getLogger(\"multilevel\")\n",
    "logger.setLevel(logging.DEBUG)\n",
    "\n",
    "for nu in (1, 5, 10, 100):\n",
    "    x =helmholtz.setup.multilevel.random_test_matrix((n,), num_examples=10)\n",
    "    level.global_params.lam = 0\n",
    "    print(\"nu {}\".format(nu))\n",
    "    method = lambda x: multilevel.relax_cycle(x, None, None, 1, relax_coarsest=nu)\n",
    "    x, conv_factor =helmholtz.setup.multilevel.relax_test_matrix(level.operator, level.rq, method, x, num_iters, print_frequency=1)"
   ]
  },
  {
   "cell_type": "markdown",
   "id": "rolled-disclosure",
   "metadata": {},
   "source": [
    "It turns out that $\\nu$ must be sufficiently large ($100$) to guarantee convergence to the smallest eigenvalue, and even then it depends on the initial guess. This is perhaps because Kaczmarz is a slow relaxation, but more likely because a random initial guess is not good enough. \n",
    "\n",
    "Perhaps that's OK; for bootstrapping, we need the initial vectors to be smooth enough, but not necessarily the exact lowest eigenvector."
   ]
  },
  {
   "cell_type": "markdown",
   "id": "wooden-superintendent",
   "metadata": {},
   "source": [
    "### Relaxed Test Functions\n",
    "Now, employ a reasonable number of Kacmzarz sweeps per iteration, and iterations."
   ]
  },
  {
   "cell_type": "code",
   "execution_count": null,
   "id": "attached-parker",
   "metadata": {},
   "outputs": [],
   "source": [
    "num_sweeps = 10\n",
    "nu = 5\n",
    "\n",
    "# Generate relaxed test matrix.\n",
    "level =helmholtz.setup.multilevel.Level.create_finest_level(a)\n",
    "x =helmholtz.setup.multilevel.random_test_matrix((n,))\n",
    "b = np.zeros_like(x)\n",
    "method = lambda x: multilevel.relax_cycle(x, None, None, 1, relax_coarsest=nu)\n",
    "x, _ =helmholtz.setup.multilevel.relax_test_matrix(level.operator, level.rq, method, x, num_sweeps=num_sweeps)"
   ]
  },
  {
   "cell_type": "code",
   "execution_count": null,
   "id": "cathedral-scheme",
   "metadata": {},
   "outputs": [],
   "source": [
    "gridpoint = np.arange(1, n+1)\n",
    "for i in range(5):\n",
    "    plt.plot(gridpoint, x[:, i], '-o')\n",
    "plt.grid(True);\n",
    "plt.title(\"Test Functions, {} 1-level iterations with $\\\\nu={}$\".format(num_iters, nu));\n",
    "#plt.savefig(\"/Users/olivne/Desktop/test_functions.png\")"
   ]
  },
  {
   "cell_type": "code",
   "execution_count": null,
   "id": "statistical-facial",
   "metadata": {},
   "outputs": [],
   "source": [
    "print(\"Theoretical #points per period {:.2f}\".format(2*np.pi/kh))"
   ]
  },
  {
   "cell_type": "markdown",
   "id": "prospective-religious",
   "metadata": {},
   "source": [
    "## Coarsening"
   ]
  },
  {
   "cell_type": "markdown",
   "id": "unable-border",
   "metadata": {},
   "source": [
    "### Restriction: SVD on Window (Aggregate)\n",
    "Let $w=4$ be the size of the window. We find $K = 4 w$ relaxed vectors and calculate the SVD of $x[w,:]$. The rows of the restriction $R$ are the principal components that guarantee $10\\%$ reconstruction error. "
   ]
  },
  {
   "cell_type": "code",
   "execution_count": null,
   "id": "typical-reset",
   "metadata": {},
   "outputs": [],
   "source": [
    "# Generate coarse variables (R) based on a window of x.\n",
    "aggregate_size = 4\n",
    "x_aggregate_t = x[:aggregate_size].transpose()\n",
    "r, s = hm.restriction.create_restriction(x_aggregate_t, 0.1)"
   ]
  },
  {
   "cell_type": "code",
   "execution_count": null,
   "id": "hazardous-deputy",
   "metadata": {},
   "outputs": [],
   "source": [
    "r.asarray()"
   ]
  },
  {
   "cell_type": "code",
   "execution_count": null,
   "id": "binding-salmon",
   "metadata": {},
   "outputs": [],
   "source": [
    "print(\"Singular values {}\".format(s))\n",
    "print(\"%unexplained energy / interpolation error {:.3f}\".format(\n",
    "    (sum(s[2:]**2)/sum(s**2))**0.5))"
   ]
  },
  {
   "cell_type": "code",
   "execution_count": null,
   "id": "severe-plate",
   "metadata": {},
   "outputs": [],
   "source": [
    "colors = [\"b\", \"r\"]\n",
    "rr = r.asarray()\n",
    "for i, color in enumerate(colors):\n",
    "    plt.plot(np.arange(1, aggregate_size + 1), rr[i], '{}o-'.format(color[i  % len(color)]), label=\"$\\sigma_{\" + str(i+1) + \"} = \" + \"{:.2f}\".format(s[i]) + \"$\")\n",
    "plt.ylim([-0.7, 0.7]);\n",
    "plt.legend(loc=\"upper right\");\n",
    "plt.grid(True);\n",
    "plt.title(\"Coarse Vars / Basis Functions on Aggregate\");"
   ]
  },
  {
   "cell_type": "markdown",
   "id": "enormous-verification",
   "metadata": {},
   "source": [
    "<!-- ### Identifying Neighborhoods Algebraically -->"
   ]
  },
  {
   "cell_type": "code",
   "execution_count": null,
   "id": "defensive-thumbnail",
   "metadata": {},
   "outputs": [],
   "source": [
    "# print(\"Test Matrix dimension: \", x.shape)"
   ]
  },
  {
   "cell_type": "code",
   "execution_count": null,
   "id": "appreciated-cincinnati",
   "metadata": {},
   "outputs": [],
   "source": [
    "# xt = x.transpose()\n",
    "# d = sklearn.metrics.pairwise.cosine_similarity(x, x)\n",
    "# print(\"(x, x) cos similarity\")\n",
    "# print(d)"
   ]
  },
  {
   "cell_type": "markdown",
   "id": "speaking-metadata",
   "metadata": {},
   "source": [
    "For this small $kh$ value, we see that the nearest neighbors are indeed gometric neighbors."
   ]
  },
  {
   "cell_type": "markdown",
   "id": "impressive-excuse",
   "metadata": {},
   "source": [
    "## 2-Level Convergence\n",
    "Define a bootstrap cycle:\n",
    "* Relax at the finest level (or perform iterations with the current cycle) on $A x = \\lambda  B x$ with $B = I$.\n",
    "* Construct coarse level: $R$ by SVD and tiling over the entire domain; $P = R^T$; $A^c = R A P$; $B^c = R B P$.\n",
    "\n",
    "We run two bootstrap cycles.\n",
    "\n",
    "This gives us a multilevel hierarchy, for which we define an FAS cycle for $A x = \\lambda x$. We define $\\sigma^0 \\equiv 1$ (a vector of size $K$) and $\\eta^l(x^l) = (x^l)^T B x^l$.\n",
    ". At level $l$, it consists of the steps\n",
    "* If $l = N_{levels}-1$ (coarsest),\n",
    "  * Repeat $30$ times:\n",
    "    * Run $5$ Kaczmarz relaxation sweeps on $A x^l - \\lambda x^l = b^l$ with fixed $\\lambda$.\n",
    "    * Update $x \\longleftarrow x^l_k (\\sigma^l_k / \\eta^l(x^l))^{\\frac12}$ for all $k$, $\\lambda \\longleftarrow mean_k(((x^l_k)^T (A^l x^l_k - b^l_k))/((x^l_k)^T B^l x^l_k))$, where $x^l_k$ is the $k$th column of $x^l$.\n",
    "* Else:\n",
    "  * Relax $\\nu_1$ times $A x^l - \\lambda B x^l = b^l$.\n",
    "  * Set $x^{l+1} \\longleftarrow R^{l+1} x^l$. Save $x^{l+1}_{INIT} \\longleftarrow x^{l+1}$.\n",
    "  * Set $b^{l+1} \\longleftarrow R^{l+1} (b^l - A^l x^l) + A^{l+1} x^{l+1}$.\n",
    "  * Set $\\sigma^{l+1} \\longleftarrow \\sigma^l - \\eta^l(x^l) + \\eta^{l+1} x^{l+1}$.\n",
    "  * Perform $\\gamma$ cycles at level $l+1$.\n",
    "  * Correct $x^l \\longleftarrow x^l + P(x^{l+1} - x^{l+1}_{INIT})$.\n",
    "  * Relax $\\nu_2$ times $A x^l - \\lambda B x^l = b^l$.\n",
    "  \n",
    "Note how we keep a single $\\lambda$ value for all test functions and update it to the mean Rayleigh quotient at the coarsest level."
   ]
  },
  {
   "cell_type": "markdown",
   "id": "parliamentary-subject",
   "metadata": {},
   "source": [
    "### Example where things go well"
   ]
  },
  {
   "cell_type": "code",
   "execution_count": null,
   "id": "greatest-bristol",
   "metadata": {},
   "outputs": [],
   "source": [
    "np.random.seed(0)\n",
    "x, multilevel = helmholtz.repetitive.bootstrap_repetitive.generate_test_matrix(a, 0, num_examples=8, num_bootstrap_steps=2)\n",
    "assert len(multilevel) == 2\n",
    "\n",
    "# FMG start so (x, lambda) has a reasonable initial guess.\n",
    "level = multilevel.level[0]\n",
    "x_init = helmholtz.repetitive.bootstrap_repetitive.fmg(multilevel, num_cycles_finest=0)\n",
    "\n",
    "# Check that (3,3) is at least as fast as (3,2). Print conv factor vs. nu1, nu2.\n",
    "# x, lam = exact_eigenpair(multilevel.level[0].a)\n",
    "# x = x[:, None]\n",
    "# multilevel.level[0].global_params.lam = lam"
   ]
  },
  {
   "cell_type": "code",
   "execution_count": null,
   "id": "applied-agreement",
   "metadata": {},
   "outputs": [],
   "source": [
    "print(\"R on aggregate\")\n",
    "print(multilevel.level[1].r.asarray())\n",
    "print(\"A^c\")\n",
    "print(multilevel.level[1].a.toarray())"
   ]
  },
  {
   "cell_type": "code",
   "execution_count": null,
   "id": "centered-carol",
   "metadata": {},
   "outputs": [],
   "source": [
    "gridpoint = np.arange(1, n+1)\n",
    "for i in range(5):\n",
    "    plt.plot(gridpoint, x[:, i], '-o')\n",
    "plt.grid(True);\n",
    "plt.title(\"Test Functions, {} 2-level bootstrap\");\n",
    "#plt.savefig(\"/Users/olivne/Desktop/test_functions.png\")"
   ]
  },
  {
   "cell_type": "markdown",
   "id": "optional-conclusion",
   "metadata": {},
   "source": [
    "### Stationarity Test\n",
    "Starting from exact solution, the cycle doesn't change the residuals, whether the relaxations are applied before or after the coarse-level correction during the cycle."
   ]
  },
  {
   "cell_type": "code",
   "execution_count": null,
   "id": "distinguished-stocks",
   "metadata": {},
   "outputs": [],
   "source": [
    "# Stationarity test of Cycle(0, 2).\n",
    "x = v[:, :1]\n",
    "multilevel.level[0].global_params.lam = lam[0]\n",
    "multilevel.relax_cycle(x, 0, 2, 30, update_lam=\"coarsest\", debug=True);\n",
    "\n",
    "# Stationarity test of Cycle(2, 0).\n",
    "x = v[:, :1]\n",
    "multilevel.level[0].global_params.lam = lam[0]\n",
    "multilevel.relax_cycle(x, 2, 0, 30, update_lam=\"coarsest\", debug=True);"
   ]
  },
  {
   "cell_type": "markdown",
   "id": "dense-joint",
   "metadata": {},
   "source": [
    "### Asymptotic Convergence vs. $\\nu_1 + \\nu_2$\n",
    "We test both $Cycle(0,\\nu)$ and $Cycle(\\nu,0)$ for $\\nu=1,\\dots,8$. We expect that\n",
    "* The asymptotic convergence of both cycles is the same.\n",
    "* The convergence improves with $\\nu$, up to a point (bounded by the interpolation/coarse-level correction accuracy)."
   ]
  },
  {
   "cell_type": "code",
   "execution_count": null,
   "id": "danish-nickname",
   "metadata": {},
   "outputs": [],
   "source": [
    "logger = logging.getLogger(\"multilevel\")\n",
    "logger.setLevel(logging.INFO)\n",
    "\n",
    "def two_level_conv_factor(nu1, nu2):\n",
    "    logger.debug(\"nu1 {} nu2 {}\".format(nu1, nu2))\n",
    "    relax_cycle = lambda x: multilevel.relax_cycle(x, nu1, nu2, 10, update_lam=\"coarsest\")\n",
    "    x = x_init.copy()\n",
    "    x, conv_factor =helmholtz.setup.multilevel.relax_test_matrix(\n",
    "        level.operator, level.rq, relax_cycle, x, 10,\n",
    "        residual_stop_value=1e-11, lam_stop_value=1e-20)\n",
    "    return conv_factor\n",
    "\n",
    "\n",
    "conv_factor = pd.DataFrame([\n",
    "    [two_level_conv_factor(nu1, nu2) for nu2 in range(6)]\n",
    "    for nu1 in range(6)])"
   ]
  },
  {
   "cell_type": "markdown",
   "id": "center-strike",
   "metadata": {},
   "source": [
    "Two-level convergence factor (measured over the last 5 cycles) vs. $\\nu_1$ (down), $\\nu_2$ (across):"
   ]
  },
  {
   "cell_type": "code",
   "execution_count": null,
   "id": "impressive-threat",
   "metadata": {},
   "outputs": [],
   "source": [
    "conv_factor"
   ]
  },
  {
   "cell_type": "markdown",
   "id": "executed-consortium",
   "metadata": {},
   "source": [
    "The convergence factor depends only on $\\nu_1+\\nu_2$ and improves with $\\nu_1+\\nu_2$, up to $0.2$. For an interpolation error of $\\varepsilon$, if a fine-operator eigenvector's eigenvalue is $\\lambda$ and the corresponding coarse-operator eigenvalue os $lam^c$, we can expect a coarse-level correction error $\\approx 1 - (1-\\varepsilon)^2 (\\lambda^c/\\lambda)$. The experimental result is close to this rule-of-thumb estimation."
   ]
  },
  {
   "cell_type": "code",
   "execution_count": null,
   "id": "listed-white",
   "metadata": {},
   "outputs": [],
   "source": [
    "lam1 = eig(multilevel.level[1].a.toarray())[0]\n",
    "lam1 = lam1[np.argsort(np.abs(lam1))]\n",
    "print(\"Fine lam (smallest 8)\", lam[:8])\n",
    "print(\"Coarse lam           \", lam1)\n",
    "print(\"Ratio                \", lam1 / lam[:8])"
   ]
  },
  {
   "cell_type": "code",
   "execution_count": null,
   "id": "radical-priority",
   "metadata": {},
   "outputs": [],
   "source": [
    "print(\"Rule of thumb lower bound for coarse level operator's convergence of smooth components {:.2f}\".format(1 - (1 - 0.095)**2 * 1.03))"
   ]
  },
  {
   "cell_type": "markdown",
   "id": "pleased-accreditation",
   "metadata": {},
   "source": [
    "### Case of Random Start that Leads to Bad Multilevel Hierarchy\n",
    "Problem: the quality of the multilevel hierarchy (2-level convergence factors) depends on the random start of the bootstrap process. Here's an example where things go badly."
   ]
  },
  {
   "cell_type": "code",
   "execution_count": null,
   "id": "single-novelty",
   "metadata": {},
   "outputs": [],
   "source": [
    "np.random.seed(1)\n",
    "x, multilevel = helmholtz.repetitive.bootstrap_repetitive.generate_test_matrix(a, 0, num_examples=8, num_bootstrap_steps=2)\n",
    "assert len(multilevel) == 2\n",
    "\n",
    "# FMG start so (x, lambda) has a reasonable initial guess.\n",
    "level = multilevel.level[0]\n",
    "x_init = helmholtz.repetitive.bootstrap_repetitive.fmg(multilevel, num_cycles_finest=0)\n",
    "\n",
    "# Check that (3,3) is at least as fast as (3,2). Print conv factor vs. nu1, nu2.\n",
    "# x, lam = exact_eigenpair(multilevel.level[0].a)\n",
    "# x = x[:, None]\n",
    "# multilevel.level[0].global_params.lam = lam"
   ]
  },
  {
   "cell_type": "code",
   "execution_count": null,
   "id": "demographic-wednesday",
   "metadata": {},
   "outputs": [],
   "source": [
    "gridpoint = np.arange(1, n+1)\n",
    "for i in range(5):\n",
    "    plt.plot(gridpoint, x[:, i], '-o')\n",
    "plt.grid(True);\n",
    "plt.title(\"Test Functions, {} 2-level bootstrap\");\n",
    "#plt.savefig(\"/Users/olivne/Desktop/test_functions.png\")"
   ]
  },
  {
   "cell_type": "code",
   "execution_count": null,
   "id": "super-planet",
   "metadata": {},
   "outputs": [],
   "source": [
    "conv_factor = pd.DataFrame([\n",
    "    [two_level_conv_factor(nu1, nu2) for nu2 in range(6)]\n",
    "    for nu1 in range(6)])\n",
    "conv_factor"
   ]
  },
  {
   "cell_type": "code",
   "execution_count": null,
   "id": "metric-karma",
   "metadata": {},
   "outputs": [],
   "source": [
    "print(\"R on aggregate\")\n",
    "print(multilevel.level[1].r.asarray())\n",
    "print(\"A^c\")\n",
    "print(multilevel.level[1].a.toarray())"
   ]
  },
  {
   "cell_type": "code",
   "execution_count": null,
   "id": "immediate-christian",
   "metadata": {},
   "outputs": [],
   "source": [
    "logger = logging.getLogger(\"multilevel\")\n",
    "logger.setLevel(logging.DEBUG)\n",
    "\n",
    "nu1 = 0\n",
    "nu2 = 4\n",
    "logger.debug(\"nu1 {} nu2 {}\".format(nu1, nu2))\n",
    "relax_cycle = lambda x: multilevel.relax_cycle(x, nu1, nu2, 10, update_lam=\"coarsest\")\n",
    "x = x_init.copy()\n",
    "x, conv_factor =helmholtz.setup.multilevel.relax_test_matrix(\n",
    "    level.operator, level.rq, relax_cycle, x, 20,\n",
    "    residual_stop_value=1e-11, lam_stop_value=1e-20)\n",
    "print(\"Asymptotic Convergence Factor {:.2f}\".format(conv_factor))"
   ]
  },
  {
   "cell_type": "code",
   "execution_count": null,
   "id": "primary-anthony",
   "metadata": {},
   "outputs": [],
   "source": [
    "fig, axs = plt.subplots(1, 2, figsize=(16, 4))\n",
    "\n",
    "ax = axs[0]\n",
    "ax.plot(x[:, 0])\n",
    "ax.set_title(\"Asymptotic $x$ in $Cycle({},{})$\".format(nu1, nu2));\n",
    "ax.grid(True);\n",
    "\n",
    "ax = axs[1]\n",
    "ax.plot(x[:, 0] - v[:, 0])\n",
    "ax.set_title(\"Asymptotic $e = x - v_0$ in $Cycle({},{})$\".format(nu1, nu2));\n",
    "ax.grid(True);"
   ]
  },
  {
   "cell_type": "markdown",
   "id": "toxic-glance",
   "metadata": {},
   "source": [
    "Looks like the convergence factor was estimated on too few cycles; with more, we see convergence, but not the smallest $\\lambda$, and it takes many cycles to find the right nonlinear solution. This must be an initial guess issue.\n",
    "* The coarse operator and $R$ don't seem much different than the \"good\" run.\n",
    "* Probably because the test functions are not smooth enough.\n",
    "* Note that the asymptotic $x$ contains a large constant component here.\n",
    "\n",
    "How can we improve the initial guess to the bootstrap process to avoid this?"
   ]
  },
  {
   "cell_type": "markdown",
   "id": "hispanic-connectivity",
   "metadata": {},
   "source": [
    "## 3-Level Convergence\n",
    "\n",
    "Generally, the bootstrap cycle is defined by\n",
    "* Run $10$ iterations of. One-level method (or perform iterations with the current $Cycle(2, 2)$) $10$ times at the finest level $l=0$ on $A x = \\lambda x$ to obtain $x^0$.\n",
    "* For $l = 1,\\dots,N_{levels}$, \n",
    "  * Construct coarse level $l$: $R$ by SVD and tiling over the entire domain; $P = R^T$; $A^c = R A P$.\n",
    "  * $x^l \\longleftarrow R x^{l-1}$.\n",
    "  * Relax on $A^l x = \\lambda^l x$ to improve $x^l$.\n",
    "  \n",
    "We perfom two bootstrap cycles, starting from $x = rand[-1,1]$ and $\\lambda=0$."
   ]
  },
  {
   "cell_type": "code",
   "execution_count": null,
   "id": "intense-metadata",
   "metadata": {},
   "outputs": [],
   "source": [
    "np.random.seed(4)\n",
    "x, multilevel = helmholtz.repetitive.bootstrap_repetitive.generate_test_matrix(a, 0, num_sweeps=10, num_examples=20, num_bootstrap_steps=1,\n",
    "                                                  initial_max_levels=3)\n",
    "assert len(multilevel) == 3\n",
    "\n",
    "level = multilevel.level[0]"
   ]
  },
  {
   "cell_type": "code",
   "execution_count": null,
   "id": "lucky-quick",
   "metadata": {},
   "outputs": [],
   "source": [
    "gridpoint = np.arange(1, n+1)\n",
    "for i in range(5):\n",
    "    plt.plot(gridpoint, x[:, i], '-o')\n",
    "plt.grid(True);\n",
    "plt.title(\"Test Functions, {} 2-level bootstrap\");\n",
    "#plt.savefig(\"/Users/olivne/Desktop/test_functions.png\")"
   ]
  },
  {
   "cell_type": "markdown",
   "id": "cubic-schedule",
   "metadata": {},
   "source": [
    "### V(2,2) Convergence Speed Test\n",
    "We start cycling from an FMG start so $(x, \\lambda)$ has a reasonable initial guess."
   ]
  },
  {
   "cell_type": "code",
   "execution_count": null,
   "id": "crude-ability",
   "metadata": {},
   "outputs": [],
   "source": [
    "# Convergence speed test.\n",
    "# FMG start so (x, lambda) has a reasonable initial guess.\n",
    "x_init = helmholtz.repetitive.bootstrap_repetitive.fmg(multilevel, num_cycles_finest=0, num_cycles=1)\n",
    "\n",
    "relax_cycle = lambda x: multilevel.relax_cycle(x, 2, 2, 100, max_levels=3)\n",
    "x, conv_factor =helmholtz.setup.multilevel.relax_test_matrix(level.operator, level.rq, relax_cycle, x_init, 15)\n",
    "print(\"Asymptotic Convergence Factor {:.2f}\".format(conv_factor))"
   ]
  },
  {
   "cell_type": "markdown",
   "id": "documented-christian",
   "metadata": {},
   "source": [
    "The asymptotic convergence factor isn't bad, and is close to the two-level factor. But again, notice how during the bootstrap run, the obtained $\\lambda$ value is not the smallest in absolute value of $A$."
   ]
  }
 ],
 "metadata": {
  "hide_input": false,
  "kernelspec": {
   "display_name": "Python 3",
   "language": "python",
   "name": "python3"
  },
  "language_info": {
   "codemirror_mode": {
    "name": "ipython",
    "version": 3
   },
   "file_extension": ".py",
   "mimetype": "text/x-python",
   "name": "python",
   "nbconvert_exporter": "python",
   "pygments_lexer": "ipython3",
   "version": "3.8.6"
  }
 },
 "nbformat": 4,
 "nbformat_minor": 5
}
