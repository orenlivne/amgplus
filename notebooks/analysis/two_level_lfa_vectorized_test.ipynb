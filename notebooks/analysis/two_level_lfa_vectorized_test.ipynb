{
 "cells": [
  {
   "cell_type": "markdown",
   "id": "e2c11183-e69a-4a0a-a709-bacecde1929d",
   "metadata": {},
   "source": [
    "# 1D Helmholtz Two-Level LFA"
   ]
  },
  {
   "cell_type": "code",
   "execution_count": 102,
   "id": "4a7b11f2-d0eb-4e8f-b2b1-e699e0fb6380",
   "metadata": {},
   "outputs": [],
   "source": [
    "# k_values = [0, 0.5]\n",
    "# discretizations = (\"3-point\", \"5-point\")\n",
    "# fig, axs = plt.subplots(1, len(k_values), figsize=(6 * len(k_values), 4))\n",
    "# for j, k in enumerate(k_values):\n",
    "#     ax = axs[j]\n",
    "#     ax.plot(t, np.abs(-t ** 2 + k), label=\"PDE\")\n",
    "#     for i, discretization in enumerate(discretizations):\n",
    "#         at = symbols(k, discretization=discretization)[0]\n",
    "#         ax.plot(t, np.abs(at), label=discretization)\n",
    "#     ax.grid(True)\n",
    "#     ax.set_title(\"{}, k {:.2f}\".format(discretization, k))\n",
    "#     ax.set_ylim([0, 5])\n",
    "#     ax.legend();\n",
    "\n",
    "# k_values = [0, 0.5]\n",
    "# discretizations = (\"3-point\", \"5-point\")\n",
    "# fig, axs = plt.subplots(len(discretizations), len(k_values), \n",
    "#                         figsize=(6 * len(k_values), 4 * len(discretizations)))\n",
    "# for i, discretization in enumerate(discretizations):\n",
    "#     for j, k in enumerate(k_values):\n",
    "#         at, gs, kac = symbols(k, discretization=discretization)\n",
    "#         ax = axs[i, j]\n",
    "#         ax.plot(t, gs)\n",
    "#         ax.plot(t, kac)\n",
    "#         print(gs[0], kac[0])\n",
    "#         ax.grid(True)\n",
    "#         ax.set_title(\"{}, k {:.2f}\".format(discretization, k))\n",
    "#         ax.set_ylim([0.3, 1.3])\n",
    "\n",
    "# discretizations = (\"3-point\", )# \"5-point\")\n",
    "# rho_values = [0.5, 1/3]\n",
    "# k_values = np.linspace(0, 1, num=10)\n",
    "# nk = len(k_values)\n",
    "# nr = len(rho_values)\n",
    "\n",
    "# fig, axs = plt.subplots(1, 2, figsize=(12, 4))\n",
    "# for i, discretization in enumerate(discretizations):\n",
    "#     mu_gs = np.zeros((nk, nr))\n",
    "#     mu_kac = np.zeros((nk, nr))\n",
    "#     bmu1_gs = np.zeros((nk, nr))\n",
    "#     bmu1_kac = np.zeros((nk, nr))\n",
    "#     bmu2_gs = np.zeros((nk, nr))\n",
    "#     bmu2_kac = np.zeros((nk, nr))\n",
    "\n",
    "#     for j, k in enumerate(k_values):\n",
    "#         at, gs, kac = symbols(k, discretization=discretization)\n",
    "#         mu_gs[j] = max(abs(gs))\n",
    "#         mu_kac[j] = max(abs(kac))\n",
    "#         for r, rho in enumerate(rho_values):\n",
    "#             bmu1_gs[j, r] = smoothing_factor(at, gs, rho)\n",
    "#             bmu1_kac[j, r] = smoothing_factor(at, kac, rho)\n",
    "#             bmu2_gs[j, r] = smoothing_factor(at, gs, rho, kind=\"svd\")\n",
    "#             bmu2_kac[j, r] = smoothing_factor(at, kac, rho, kind=\"svd\")\n",
    "\n",
    "#     for r, rho in enumerate(rho_values):\n",
    "#         ax = axs[r]\n",
    "#         ax.plot(k_values, bmu1_gs[:, r], label=\"GS, {} rho {:.2f}\".format(discretization, rho))\n",
    "#         ax.plot(k_values, bmu1_kac[:, r], label=\"Kaczmarz, {} rho {:.2f}\".format(discretization, rho))\n",
    "#         ax.grid(True)\n",
    "#         ax.set_title(\"Smoothing Factor\");\n",
    "#         ax.legend() # loc=\"lower right\");\n",
    "#         ax.set_ylim([0.4, 1])\n",
    "\n",
    "# #     ax = axs[1]\n",
    "# #     ax.plot(k_values, mu_gs, label=\"GS, {}\".format(discretization))\n",
    "# #     ax.plot(k_values, mu_kac, label=\"Kaczmarz, {}\".format(discretization))\n",
    "# #     ax.grid(True)\n",
    "# #     ax.set_title(\"Convergence Factor\");\n",
    "# #     ax.set_ylim([0.9, 1.2])\n",
    "# #     ax.legend();"
   ]
  },
  {
   "cell_type": "code",
   "execution_count": 69,
   "id": "13167104-97c7-4ef1-a96d-1dee0bc11f02",
   "metadata": {},
   "outputs": [],
   "source": [
    "import numpy as np\n",
    "import scipy.linalg\n",
    "import matplotlib.pyplot as plt\n",
    "from numpy import pi"
   ]
  },
  {
   "cell_type": "code",
   "execution_count": null,
   "id": "1b6b1f0d-247c-4257-b2b1-41cb48e902ee",
   "metadata": {},
   "outputs": [],
   "source": [
    "def block_diagonal_tensor(*x):\n",
    "    n = len(x[0])\n",
    "    j = np.arange(n, dtype=int)\n",
    "    result = np.zeros((n, 2, 2))\n",
    "    for i, xi in enumerate(x):\n",
    "        result[j, i, i] = xi\n",
    "    return result"
   ]
  },
  {
   "cell_type": "code",
   "execution_count": 205,
   "id": "2d662168-e8da-4e10-b63d-a3f31c8d5205",
   "metadata": {},
   "outputs": [],
   "source": [
    "t = np.linspace(-pi, pi, 100) + 1e-13\n",
    "k = 0\n",
    "discretization = \"3-point\"\n",
    "\n",
    "def gs_symbol(a, t):\n",
    "    \"\"\"a must be odd, centered at len(a) // 2.\"\"\"\n",
    "    mid = len(a) // 2\n",
    "    left = np.poly1d(a.c[:mid + 1])\n",
    "    right = np.poly1d(np.concatenate((a.c[mid + 1:][::-1], [0])))\n",
    "    r = np.abs(right(np.exp(1j * t)) / left(np.exp(-1j * t)))\n",
    "    return r\n",
    "\n",
    "def a_poly():\n",
    "    if discretization == \"3-point\":\n",
    "        a = np.array([1, -2 + k ** 2, 1])\n",
    "    elif discretization == \"5-point\":\n",
    "        a = np.array([-1, 16, -30 + 12 * k ** 2, 16, -1])\n",
    "    else:\n",
    "        raise Exception(\"Unsupported discretization type\")\n",
    "    return np.poly1d(a)\n",
    "\n",
    "def a(t):\n",
    "    stencil = a_poly()\n",
    "    return np.real(np.exp(-1j * t * (len(stencil) // 2)) * stencil(np.exp(1j * t)))\n",
    "\n",
    "def gs(t):\n",
    "    return gs_symbol(a_poly(), t)\n",
    "\n",
    "def kaczmarz(t):\n",
    "    # A is symmetric, so A*A' = A^2.\n",
    "    stencil = a_poly()\n",
    "    return gs_symbol(np.polymul(stencil, stencil), t)\n",
    "\n",
    "def diag_harmonics(symbol, t):\n",
    "    return block_diagonal_tensor(symbol(t), symbol(t + pi))\n",
    "\n",
    "def r(t):\n",
    "    return 1 + np.exp(1j * t)\n",
    "\n",
    "def r_harmonics(t):\n",
    "    R = np.array([r(t), r(t + pi)])\n",
    "    return np.rollaxis(R[None, :], 2, 0)\n",
    "\n",
    "def p_harmonics(t):\n",
    "    return np.swapaxes(r_harmonics(t), 1, 2)\n",
    "\n",
    "def ac(t):\n",
    "    A = a(t)\n",
    "    R = r_harmonics(t)\n",
    "    P = p_harmonics(t)\n",
    "    return (R.dot(A)).dot(P)\n",
    "\n",
    "def clc(t):\n",
    "    A = diag_harmonics(a, t)\n",
    "    R = r_harmonics(t)\n",
    "    P = p_harmonics(t)\n",
    "    # Galerkin coarsening.\n",
    "    RA = np.matmul(R, A)\n",
    "    AC = np.matmul(RA, P)\n",
    "    b = np.linalg.solve(AC, RA)\n",
    "    return np.tile(np.eye(2), (len(t), 1, 1)) - np.matmul(P, b)\n",
    "\n",
    "def two_level_cycle(t, nu):\n",
    "    return clc(t).dot(diag_harmonics(kaczmarz, t) ** nu)"
   ]
  },
  {
   "cell_type": "code",
   "execution_count": 207,
   "id": "6c1079cf-c737-4fa3-8699-c0ef3f8e8994",
   "metadata": {},
   "outputs": [
    {
     "ename": "LinAlgError",
     "evalue": "Singular matrix",
     "output_type": "error",
     "traceback": [
      "\u001b[0;31m---------------------------------------------------------------------------\u001b[0m",
      "\u001b[0;31mLinAlgError\u001b[0m                               Traceback (most recent call last)",
      "\u001b[0;32m<ipython-input-207-65a84632598f>\u001b[0m in \u001b[0;36m<module>\u001b[0;34m\u001b[0m\n\u001b[0;32m----> 1\u001b[0;31m \u001b[0mtwo_level_cycle\u001b[0m\u001b[0;34m(\u001b[0m\u001b[0mt\u001b[0m\u001b[0;34m,\u001b[0m \u001b[0;36m2\u001b[0m\u001b[0;34m)\u001b[0m\u001b[0;34m\u001b[0m\u001b[0;34m\u001b[0m\u001b[0m\n\u001b[0m",
      "\u001b[0;32m<ipython-input-205-1d86cffdfb69>\u001b[0m in \u001b[0;36mtwo_level_cycle\u001b[0;34m(t, nu)\u001b[0m\n\u001b[1;32m     62\u001b[0m \u001b[0;34m\u001b[0m\u001b[0m\n\u001b[1;32m     63\u001b[0m \u001b[0;32mdef\u001b[0m \u001b[0mtwo_level_cycle\u001b[0m\u001b[0;34m(\u001b[0m\u001b[0mt\u001b[0m\u001b[0;34m,\u001b[0m \u001b[0mnu\u001b[0m\u001b[0;34m)\u001b[0m\u001b[0;34m:\u001b[0m\u001b[0;34m\u001b[0m\u001b[0;34m\u001b[0m\u001b[0m\n\u001b[0;32m---> 64\u001b[0;31m     \u001b[0;32mreturn\u001b[0m \u001b[0mclc\u001b[0m\u001b[0;34m(\u001b[0m\u001b[0mt\u001b[0m\u001b[0;34m)\u001b[0m\u001b[0;34m.\u001b[0m\u001b[0mdot\u001b[0m\u001b[0;34m(\u001b[0m\u001b[0mdiag_harmonics\u001b[0m\u001b[0;34m(\u001b[0m\u001b[0mkaczmarz\u001b[0m\u001b[0;34m,\u001b[0m \u001b[0mt\u001b[0m\u001b[0;34m)\u001b[0m \u001b[0;34m**\u001b[0m \u001b[0mnu\u001b[0m\u001b[0;34m)\u001b[0m\u001b[0;34m\u001b[0m\u001b[0;34m\u001b[0m\u001b[0m\n\u001b[0m",
      "\u001b[0;32m<ipython-input-205-1d86cffdfb69>\u001b[0m in \u001b[0;36mclc\u001b[0;34m(t)\u001b[0m\n\u001b[1;32m     58\u001b[0m     \u001b[0mRA\u001b[0m \u001b[0;34m=\u001b[0m \u001b[0mnp\u001b[0m\u001b[0;34m.\u001b[0m\u001b[0mmatmul\u001b[0m\u001b[0;34m(\u001b[0m\u001b[0mR\u001b[0m\u001b[0;34m,\u001b[0m \u001b[0mA\u001b[0m\u001b[0;34m)\u001b[0m\u001b[0;34m\u001b[0m\u001b[0;34m\u001b[0m\u001b[0m\n\u001b[1;32m     59\u001b[0m     \u001b[0mAC\u001b[0m \u001b[0;34m=\u001b[0m \u001b[0mnp\u001b[0m\u001b[0;34m.\u001b[0m\u001b[0mmatmul\u001b[0m\u001b[0;34m(\u001b[0m\u001b[0mRA\u001b[0m\u001b[0;34m,\u001b[0m \u001b[0mP\u001b[0m\u001b[0;34m)\u001b[0m\u001b[0;34m\u001b[0m\u001b[0;34m\u001b[0m\u001b[0m\n\u001b[0;32m---> 60\u001b[0;31m     \u001b[0mb\u001b[0m \u001b[0;34m=\u001b[0m \u001b[0mnp\u001b[0m\u001b[0;34m.\u001b[0m\u001b[0mlinalg\u001b[0m\u001b[0;34m.\u001b[0m\u001b[0msolve\u001b[0m\u001b[0;34m(\u001b[0m\u001b[0mAC\u001b[0m\u001b[0;34m,\u001b[0m \u001b[0mRA\u001b[0m\u001b[0;34m)\u001b[0m\u001b[0;34m\u001b[0m\u001b[0;34m\u001b[0m\u001b[0m\n\u001b[0m\u001b[1;32m     61\u001b[0m     \u001b[0;32mreturn\u001b[0m \u001b[0mnp\u001b[0m\u001b[0;34m.\u001b[0m\u001b[0mtile\u001b[0m\u001b[0;34m(\u001b[0m\u001b[0mnp\u001b[0m\u001b[0;34m.\u001b[0m\u001b[0meye\u001b[0m\u001b[0;34m(\u001b[0m\u001b[0;36m2\u001b[0m\u001b[0;34m)\u001b[0m\u001b[0;34m,\u001b[0m \u001b[0;34m(\u001b[0m\u001b[0mlen\u001b[0m\u001b[0;34m(\u001b[0m\u001b[0mt\u001b[0m\u001b[0;34m)\u001b[0m\u001b[0;34m,\u001b[0m \u001b[0;36m1\u001b[0m\u001b[0;34m,\u001b[0m \u001b[0;36m1\u001b[0m\u001b[0;34m)\u001b[0m\u001b[0;34m)\u001b[0m \u001b[0;34m-\u001b[0m \u001b[0mnp\u001b[0m\u001b[0;34m.\u001b[0m\u001b[0mmatmul\u001b[0m\u001b[0;34m(\u001b[0m\u001b[0mP\u001b[0m\u001b[0;34m,\u001b[0m \u001b[0mb\u001b[0m\u001b[0;34m)\u001b[0m\u001b[0;34m\u001b[0m\u001b[0;34m\u001b[0m\u001b[0m\n\u001b[1;32m     62\u001b[0m \u001b[0;34m\u001b[0m\u001b[0m\n",
      "\u001b[0;32m<__array_function__ internals>\u001b[0m in \u001b[0;36msolve\u001b[0;34m(*args, **kwargs)\u001b[0m\n",
      "\u001b[0;32m~/.conda/envs/hm/lib/python3.8/site-packages/numpy/linalg/linalg.py\u001b[0m in \u001b[0;36msolve\u001b[0;34m(a, b)\u001b[0m\n\u001b[1;32m    392\u001b[0m     \u001b[0msignature\u001b[0m \u001b[0;34m=\u001b[0m \u001b[0;34m'DD->D'\u001b[0m \u001b[0;32mif\u001b[0m \u001b[0misComplexType\u001b[0m\u001b[0;34m(\u001b[0m\u001b[0mt\u001b[0m\u001b[0;34m)\u001b[0m \u001b[0;32melse\u001b[0m \u001b[0;34m'dd->d'\u001b[0m\u001b[0;34m\u001b[0m\u001b[0;34m\u001b[0m\u001b[0m\n\u001b[1;32m    393\u001b[0m     \u001b[0mextobj\u001b[0m \u001b[0;34m=\u001b[0m \u001b[0mget_linalg_error_extobj\u001b[0m\u001b[0;34m(\u001b[0m\u001b[0m_raise_linalgerror_singular\u001b[0m\u001b[0;34m)\u001b[0m\u001b[0;34m\u001b[0m\u001b[0;34m\u001b[0m\u001b[0m\n\u001b[0;32m--> 394\u001b[0;31m     \u001b[0mr\u001b[0m \u001b[0;34m=\u001b[0m \u001b[0mgufunc\u001b[0m\u001b[0;34m(\u001b[0m\u001b[0ma\u001b[0m\u001b[0;34m,\u001b[0m \u001b[0mb\u001b[0m\u001b[0;34m,\u001b[0m \u001b[0msignature\u001b[0m\u001b[0;34m=\u001b[0m\u001b[0msignature\u001b[0m\u001b[0;34m,\u001b[0m \u001b[0mextobj\u001b[0m\u001b[0;34m=\u001b[0m\u001b[0mextobj\u001b[0m\u001b[0;34m)\u001b[0m\u001b[0;34m\u001b[0m\u001b[0;34m\u001b[0m\u001b[0m\n\u001b[0m\u001b[1;32m    395\u001b[0m \u001b[0;34m\u001b[0m\u001b[0m\n\u001b[1;32m    396\u001b[0m     \u001b[0;32mreturn\u001b[0m \u001b[0mwrap\u001b[0m\u001b[0;34m(\u001b[0m\u001b[0mr\u001b[0m\u001b[0;34m.\u001b[0m\u001b[0mastype\u001b[0m\u001b[0;34m(\u001b[0m\u001b[0mresult_t\u001b[0m\u001b[0;34m,\u001b[0m \u001b[0mcopy\u001b[0m\u001b[0;34m=\u001b[0m\u001b[0;32mFalse\u001b[0m\u001b[0;34m)\u001b[0m\u001b[0;34m)\u001b[0m\u001b[0;34m\u001b[0m\u001b[0;34m\u001b[0m\u001b[0m\n",
      "\u001b[0;32m~/.conda/envs/hm/lib/python3.8/site-packages/numpy/linalg/linalg.py\u001b[0m in \u001b[0;36m_raise_linalgerror_singular\u001b[0;34m(err, flag)\u001b[0m\n\u001b[1;32m     86\u001b[0m \u001b[0;34m\u001b[0m\u001b[0m\n\u001b[1;32m     87\u001b[0m \u001b[0;32mdef\u001b[0m \u001b[0m_raise_linalgerror_singular\u001b[0m\u001b[0;34m(\u001b[0m\u001b[0merr\u001b[0m\u001b[0;34m,\u001b[0m \u001b[0mflag\u001b[0m\u001b[0;34m)\u001b[0m\u001b[0;34m:\u001b[0m\u001b[0;34m\u001b[0m\u001b[0;34m\u001b[0m\u001b[0m\n\u001b[0;32m---> 88\u001b[0;31m     \u001b[0;32mraise\u001b[0m \u001b[0mLinAlgError\u001b[0m\u001b[0;34m(\u001b[0m\u001b[0;34m\"Singular matrix\"\u001b[0m\u001b[0;34m)\u001b[0m\u001b[0;34m\u001b[0m\u001b[0;34m\u001b[0m\u001b[0m\n\u001b[0m\u001b[1;32m     89\u001b[0m \u001b[0;34m\u001b[0m\u001b[0m\n\u001b[1;32m     90\u001b[0m \u001b[0;32mdef\u001b[0m \u001b[0m_raise_linalgerror_nonposdef\u001b[0m\u001b[0;34m(\u001b[0m\u001b[0merr\u001b[0m\u001b[0;34m,\u001b[0m \u001b[0mflag\u001b[0m\u001b[0;34m)\u001b[0m\u001b[0;34m:\u001b[0m\u001b[0;34m\u001b[0m\u001b[0;34m\u001b[0m\u001b[0m\n",
      "\u001b[0;31mLinAlgError\u001b[0m: Singular matrix"
     ]
    }
   ],
   "source": [
    "two_level_cycle(t, 2)"
   ]
  },
  {
   "cell_type": "code",
   "execution_count": 204,
   "id": "949cb1e0-820d-4ba2-88e2-c2b6db196d3b",
   "metadata": {},
   "outputs": [
    {
     "data": {
      "text/plain": [
       "[<matplotlib.lines.Line2D at 0x1157a3430>]"
      ]
     },
     "execution_count": 204,
     "metadata": {},
     "output_type": "execute_result"
    },
    {
     "data": {
      "image/png": "[encoded data removed]",
      "text/plain": [
       "<Figure size 432x288 with 1 Axes>"
      ]
     },
     "metadata": {
      "needs_background": "light"
     },
     "output_type": "display_data"
    }
   ],
   "source": [
    "plt.plot(t, gs(t))"
   ]
  },
  {
   "cell_type": "code",
   "execution_count": 208,
   "id": "410d4643-cdb8-4aab-adfd-2bb15e26d5f2",
   "metadata": {},
   "outputs": [
    {
     "name": "stdout",
     "output_type": "stream",
     "text": [
      "(100, 1, 1) (100, 1, 2)\n"
     ]
    }
   ],
   "source": [
    "A = diag_harmonics(a, t)\n",
    "R = r_harmonics(t)\n",
    "P = p_harmonics(t)\n",
    "# Galerkin coarsening.\n",
    "RA = np.matmul(R, A)\n",
    "AC = np.matmul(RA, P)\n",
    "print(AC.shape, RA.shape)"
   ]
  },
  {
   "cell_type": "code",
   "execution_count": 209,
   "id": "1b570713-88b1-48af-8d8d-9a4bff4768da",
   "metadata": {},
   "outputs": [
    {
     "ename": "LinAlgError",
     "evalue": "Singular matrix",
     "output_type": "error",
     "traceback": [
      "\u001b[0;31m---------------------------------------------------------------------------\u001b[0m",
      "\u001b[0;31mLinAlgError\u001b[0m                               Traceback (most recent call last)",
      "\u001b[0;32m<ipython-input-209-21218a92742d>\u001b[0m in \u001b[0;36m<module>\u001b[0;34m\u001b[0m\n\u001b[0;32m----> 1\u001b[0;31m \u001b[0mb\u001b[0m \u001b[0;34m=\u001b[0m \u001b[0mnp\u001b[0m\u001b[0;34m.\u001b[0m\u001b[0mlinalg\u001b[0m\u001b[0;34m.\u001b[0m\u001b[0msolve\u001b[0m\u001b[0;34m(\u001b[0m\u001b[0mAC\u001b[0m\u001b[0;34m,\u001b[0m \u001b[0mRA\u001b[0m\u001b[0;34m)\u001b[0m\u001b[0;34m\u001b[0m\u001b[0;34m\u001b[0m\u001b[0m\n\u001b[0m",
      "\u001b[0;32m<__array_function__ internals>\u001b[0m in \u001b[0;36msolve\u001b[0;34m(*args, **kwargs)\u001b[0m\n",
      "\u001b[0;32m~/.conda/envs/hm/lib/python3.8/site-packages/numpy/linalg/linalg.py\u001b[0m in \u001b[0;36msolve\u001b[0;34m(a, b)\u001b[0m\n\u001b[1;32m    392\u001b[0m     \u001b[0msignature\u001b[0m \u001b[0;34m=\u001b[0m \u001b[0;34m'DD->D'\u001b[0m \u001b[0;32mif\u001b[0m \u001b[0misComplexType\u001b[0m\u001b[0;34m(\u001b[0m\u001b[0mt\u001b[0m\u001b[0;34m)\u001b[0m \u001b[0;32melse\u001b[0m \u001b[0;34m'dd->d'\u001b[0m\u001b[0;34m\u001b[0m\u001b[0;34m\u001b[0m\u001b[0m\n\u001b[1;32m    393\u001b[0m     \u001b[0mextobj\u001b[0m \u001b[0;34m=\u001b[0m \u001b[0mget_linalg_error_extobj\u001b[0m\u001b[0;34m(\u001b[0m\u001b[0m_raise_linalgerror_singular\u001b[0m\u001b[0;34m)\u001b[0m\u001b[0;34m\u001b[0m\u001b[0;34m\u001b[0m\u001b[0m\n\u001b[0;32m--> 394\u001b[0;31m     \u001b[0mr\u001b[0m \u001b[0;34m=\u001b[0m \u001b[0mgufunc\u001b[0m\u001b[0;34m(\u001b[0m\u001b[0ma\u001b[0m\u001b[0;34m,\u001b[0m \u001b[0mb\u001b[0m\u001b[0;34m,\u001b[0m \u001b[0msignature\u001b[0m\u001b[0;34m=\u001b[0m\u001b[0msignature\u001b[0m\u001b[0;34m,\u001b[0m \u001b[0mextobj\u001b[0m\u001b[0;34m=\u001b[0m\u001b[0mextobj\u001b[0m\u001b[0;34m)\u001b[0m\u001b[0;34m\u001b[0m\u001b[0;34m\u001b[0m\u001b[0m\n\u001b[0m\u001b[1;32m    395\u001b[0m \u001b[0;34m\u001b[0m\u001b[0m\n\u001b[1;32m    396\u001b[0m     \u001b[0;32mreturn\u001b[0m \u001b[0mwrap\u001b[0m\u001b[0;34m(\u001b[0m\u001b[0mr\u001b[0m\u001b[0;34m.\u001b[0m\u001b[0mastype\u001b[0m\u001b[0;34m(\u001b[0m\u001b[0mresult_t\u001b[0m\u001b[0;34m,\u001b[0m \u001b[0mcopy\u001b[0m\u001b[0;34m=\u001b[0m\u001b[0;32mFalse\u001b[0m\u001b[0;34m)\u001b[0m\u001b[0;34m)\u001b[0m\u001b[0;34m\u001b[0m\u001b[0;34m\u001b[0m\u001b[0m\n",
      "\u001b[0;32m~/.conda/envs/hm/lib/python3.8/site-packages/numpy/linalg/linalg.py\u001b[0m in \u001b[0;36m_raise_linalgerror_singular\u001b[0;34m(err, flag)\u001b[0m\n\u001b[1;32m     86\u001b[0m \u001b[0;34m\u001b[0m\u001b[0m\n\u001b[1;32m     87\u001b[0m \u001b[0;32mdef\u001b[0m \u001b[0m_raise_linalgerror_singular\u001b[0m\u001b[0;34m(\u001b[0m\u001b[0merr\u001b[0m\u001b[0;34m,\u001b[0m \u001b[0mflag\u001b[0m\u001b[0;34m)\u001b[0m\u001b[0;34m:\u001b[0m\u001b[0;34m\u001b[0m\u001b[0;34m\u001b[0m\u001b[0m\n\u001b[0;32m---> 88\u001b[0;31m     \u001b[0;32mraise\u001b[0m \u001b[0mLinAlgError\u001b[0m\u001b[0;34m(\u001b[0m\u001b[0;34m\"Singular matrix\"\u001b[0m\u001b[0;34m)\u001b[0m\u001b[0;34m\u001b[0m\u001b[0;34m\u001b[0m\u001b[0m\n\u001b[0m\u001b[1;32m     89\u001b[0m \u001b[0;34m\u001b[0m\u001b[0m\n\u001b[1;32m     90\u001b[0m \u001b[0;32mdef\u001b[0m \u001b[0m_raise_linalgerror_nonposdef\u001b[0m\u001b[0;34m(\u001b[0m\u001b[0merr\u001b[0m\u001b[0;34m,\u001b[0m \u001b[0mflag\u001b[0m\u001b[0;34m)\u001b[0m\u001b[0;34m:\u001b[0m\u001b[0;34m\u001b[0m\u001b[0;34m\u001b[0m\u001b[0m\n",
      "\u001b[0;31mLinAlgError\u001b[0m: Singular matrix"
     ]
    }
   ],
   "source": [
    "b = np.linalg.solve(AC, RA)"
   ]
  },
  {
   "cell_type": "code",
   "execution_count": null,
   "id": "e4bfeb81-a1eb-4aba-8dce-d9c5dc26e06d",
   "metadata": {},
   "outputs": [],
   "source": []
  }
 ],
 "metadata": {
  "kernelspec": {
   "display_name": "Python 3",
   "language": "python",
   "name": "python3"
  },
  "language_info": {
   "codemirror_mode": {
    "name": "ipython",
    "version": 3
   },
   "file_extension": ".py",
   "mimetype": "text/x-python",
   "name": "python",
   "nbconvert_exporter": "python",
   "pygments_lexer": "ipython3",
   "version": "3.8.6"
  }
 },
 "nbformat": 4,
 "nbformat_minor": 5
}
