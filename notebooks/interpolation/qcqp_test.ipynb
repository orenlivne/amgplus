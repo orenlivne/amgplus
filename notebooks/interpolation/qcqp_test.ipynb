{
 "cells": [
  {
   "cell_type": "markdown",
   "id": "dba78dd6-58ec-4d8d-a546-cce5f04b3ec6",
   "metadata": {},
   "source": [
    "# Optimal Rotation by QCQP"
   ]
  },
  {
   "cell_type": "code",
   "execution_count": 5,
   "id": "c4223a32-a0a1-436b-8583-baa0512bd86c",
   "metadata": {},
   "outputs": [],
   "source": [
    "import cvxpy as cp\n",
    "import numpy as np"
   ]
  },
  {
   "cell_type": "code",
   "execution_count": 24,
   "id": "08598abf-e7dd-49c9-9a3d-cf7e8850bfef",
   "metadata": {},
   "outputs": [
    {
     "data": {
      "text/plain": [
       "(array([[10.37120677, -7.78585787],\n",
       "        [-7.78585787, 14.17595674]]),\n",
       " array([[-3.07230232,  2.16825185],\n",
       "        [-0.79225915,  2.29682612]]),\n",
       " (4,))"
      ]
     },
     "execution_count": 24,
     "metadata": {},
     "output_type": "execute_result"
    }
   ],
   "source": [
    "# Problem data.\n",
    "m = 10\n",
    "n = 2\n",
    "np.random.seed(1)\n",
    "X = np.random.randn(m, n)\n",
    "Y = np.random.randn(m, n)\n",
    "A = X.transpose().dot(X)\n",
    "b = (Y.transpose().dot(X)).flatten()\n",
    "A, b, b.flatten().shape"
   ]
  },
  {
   "cell_type": "code",
   "execution_count": 22,
   "id": "0d0594aa-e425-416a-bc58-d26059301a91",
   "metadata": {},
   "outputs": [
    {
     "data": {
      "text/plain": [
       "array([-0.79225915,  2.29682612])"
      ]
     },
     "execution_count": 22,
     "metadata": {},
     "output_type": "execute_result"
    }
   ],
   "source": [
    "Y[:, 1].transpose().dot(X)"
   ]
  },
  {
   "cell_type": "code",
   "execution_count": 12,
   "id": "3f3fc35a-39d4-43e3-8e60-3d0b0a347617",
   "metadata": {},
   "outputs": [
    {
     "name": "stdout",
     "output_type": "stream",
     "text": [
      "[-1.79109255e-19  2.85112420e-02  2.79973443e-19  3.37658729e-20\n",
      " -2.72802663e-19  1.49285011e-01 -9.94082533e-20  8.35373900e-20\n",
      "  2.46718649e-01  5.78224144e-01 -4.03739463e-19  1.01242860e-03\n",
      " -9.28486180e-20  2.26767464e-01 -1.58813678e-19 -8.97232272e-20\n",
      " -1.22145729e-19 -1.51509428e-19  1.12060672e-19 -3.48318635e-19]\n",
      "[ 2.50938945  0.          2.78354615  1.79425782 13.08579183  0.\n",
      "  0.73716363  3.35344995  0.          0.          8.93825054  0.\n",
      "  7.02955161  0.          4.71068649  3.18873635  2.06090107 10.08166738\n",
      "  3.0481157   8.53268239]\n"
     ]
    }
   ],
   "source": [
    "# QCQP test.\n",
    "# Construct the problem.\n",
    "x = cp.Variable(n)\n",
    "objective = cp.Minimize(cp.sum_squares(A@x - b))\n",
    "constraints = [0 <= x, x <= 1]\n",
    "prob = cp.Problem(objective, constraints)\n",
    "\n",
    "# The optimal objective value is returned by `prob.solve()`.\n",
    "result = prob.solve()\n",
    "# The optimal value for x is stored in `x.value`.\n",
    "print(x.value)\n",
    "# The optimal Lagrange multiplier for a constraint is stored in\n",
    "# `constraint.dual_value`.\n",
    "print(constraints[0].dual_value)"
   ]
  },
  {
   "cell_type": "code",
   "execution_count": null,
   "id": "a6d995b7-7734-4581-a8fb-bbce71462acd",
   "metadata": {},
   "outputs": [],
   "source": []
  }
 ],
 "metadata": {
  "kernelspec": {
   "display_name": "Python 3",
   "language": "python",
   "name": "python3"
  },
  "language_info": {
   "codemirror_mode": {
    "name": "ipython",
    "version": 3
   },
   "file_extension": ".py",
   "mimetype": "text/x-python",
   "name": "python",
   "nbconvert_exporter": "python",
   "pygments_lexer": "ipython3",
   "version": "3.8.6"
  }
 },
 "nbformat": 4,
 "nbformat_minor": 5
}
