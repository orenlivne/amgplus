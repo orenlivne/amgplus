{
 "cells": [
  {
   "cell_type": "markdown",
   "id": "failing-perfume",
   "metadata": {},
   "source": [
    "# Helmholtz 1D Multilevel: Constant $k$, Repetitive Coarsening (Detailed Level-by-Level Coarsening Development)\n",
    "* Constant $k$.\n",
    "* Discretization: 5-point (4th order).\n",
    "* Fixed-domain problem; non-repetitive, so we generate TVs over entire domain.\n",
    "* Fix aggregate size $a$ and $n_c$ (# principal components) over entire domain. Overlap the last two aggregates if needed.\n",
    "* Optimize $a, n_c$ to maximize the mock cycle predicted error reduction efficiency."
   ]
  },
  {
   "cell_type": "code",
   "execution_count": 15,
   "id": "fatal-bride",
   "metadata": {},
   "outputs": [
    {
     "name": "stdout",
     "output_type": "stream",
     "text": [
      "The autoreload extension is already loaded. To reload it, use:\n",
      "  %reload_ext autoreload\n"
     ]
    }
   ],
   "source": [
    "import collections\n",
    "import logging\n",
    "import numpy as np\n",
    "import matplotlib.pyplot as plt\n",
    "import helmholtz as hm\n",
    "import pandas as pd\n",
    "import scipy.sparse\n",
    "import sklearn.metrics.pairwise\n",
    "import sys\n",
    "from numpy.ma.testutils import assert_array_almost_equal\n",
    "from scipy.linalg import eig, norm, svd\n",
    "from scipy.sparse.linalg import eigs\n",
    "from scipy import optimize\n",
    "\n",
    "%load_ext autoreload\n",
    "%autoreload 2\n",
    "\n",
    "np.set_printoptions(linewidth=500, precision=3, suppress=True, threshold=100000)\n",
    "for handler in logging.root.handlers[:]: logging.root.removeHandler(handler)\n",
    "logging.basicConfig(stream=sys.stdout, level=logging.INFO, format=\"%(levelname)-8s %(message)s\",\n",
    "                    datefmt=\"%a, %d %b %Y %H:%M:%S\")\n",
    "\n",
    "pd.set_option('display.max_rows', 500)\n",
    "pd.set_option('display.max_columns', 500)\n",
    "pd.set_option('display.width', 1000)\n",
    "pd.options.display.float_format = \"{:,.2f}\".format\n",
    "\n",
    "logger = logging.getLogger(\"main\")\n",
    "_LOGGER = logger"
   ]
  },
  {
   "cell_type": "code",
   "execution_count": 9,
   "id": "ca363760-f09e-4ea3-9c3e-81aadf98c2ab",
   "metadata": {},
   "outputs": [],
   "source": [
    "# Fixed seed for reproducible results.\n",
    "np.random.seed(0)\n",
    "\n",
    "# Domain size.\n",
    "n = 96\n",
    "# Scaled wave number.\n",
    "kh = 0.7\n",
    "\n",
    "repetitive = True\n",
    "\n",
    "# Number of test vectors.\n",
    "num_examples = 3\n",
    "threshold = 0.1\n",
    "\n",
    "# Boottstrapping parameters.\n",
    "interpolation_method = \"ls\"\n",
    "neighborhood = \"extended\" #\"aggregate\" # \"extended\"\n",
    "num_test_examples = 5\n",
    "leeway_factor = 1.3"
   ]
  },
  {
   "cell_type": "markdown",
   "id": "36f9a6bc-e552-4822-8d23-4bd05d2975f8",
   "metadata": {},
   "source": [
    "## Shrinkage Factor\n",
    "Given an iterative method, we can calculate whether it's a good smoothing candidate using the **shrinkage factor** $\\mu$, even before measuring its mock cycle rate (which measures the combination of the smoother andcoarsening operator $R$).\n",
    "\n",
    "* Start from $5$ different random starts $x_0 = rand[-1,1]$, for each  apply the method for $A x = 0$ to obtain iterates $x_1, x_2, \\dots$.\n",
    "* For each iterate, calculate residual norm $r_i := \\|A x_i\\|_2$ and reduction per sweep, $\\mu_i := (r_i / r_0)^{\\frac{1}{i}}$, $i = 1, 2, \\dots$.\n",
    "* Average $\\mu_i$ over the $5$ starts.\n",
    "* Terminate the method at $j = i + 3$, where $i = argmin_i \\mu_i$ and set $\\mu \\leftarrow \\mu_j$."
   ]
  },
  {
   "cell_type": "markdown",
   "id": "09e51279-8734-442c-88db-462f5b1edaab",
   "metadata": {},
   "source": [
    "## Level 0->1 Coarsening"
   ]
  },
  {
   "cell_type": "markdown",
   "id": "10a77b33-41f8-4b8e-b930-b1111f783374",
   "metadata": {},
   "source": [
    "### Relaxation Shrinkage Factor"
   ]
  },
  {
   "cell_type": "code",
   "execution_count": 10,
   "id": "68b90d7d-a93c-4c7e-bacd-19b5f15e878f",
   "metadata": {},
   "outputs": [
    {
     "name": "stdout",
     "output_type": "stream",
     "text": [
      "PODR = point of diminishing returns\n",
      "Efficiency = residual reduction per sweep\n",
      "kh 0\n",
      "INFO     Iter     |r|                         |x|         RER\n",
      "INFO     0     1.406e+00                    4.468e-01    3.139\n",
      "INFO     1     7.628e-01 (0.544) [0.544]    3.342e-01    2.288 (0.728)\n",
      "INFO     2     4.353e-01 (0.572) [0.558]    2.811e-01    1.561 (0.682)\n",
      "INFO     3     2.723e-01 (0.627) [0.580]    2.539e-01    1.086 (0.695)\n",
      "INFO     4     1.864e-01 (0.686) [0.606]    2.380e-01    0.795 (0.732)\n",
      "INFO     5     1.391e-01 (0.746) [0.632]    2.276e-01    0.622 (0.782)\n",
      "INFO     6     1.117e-01 (0.803) [0.658]    2.201e-01    0.516 (0.831)\n",
      "INFO     7     9.389e-02 (0.840) [0.681]    2.144e-01    0.444 (0.863)\n",
      "INFO     8     8.141e-02 (0.867) [0.702]    2.099e-01    0.393 (0.886)\n",
      "INFO     9     7.202e-02 (0.884) [0.720]    2.062e-01    0.353 (0.900)\n",
      "INFO     10    6.475e-02 (0.898) [0.737]    2.030e-01    0.322 (0.912)\n",
      "Kac   conv 0.90 shrinkage 0.70 PODR RER 0.39 after  8 sweeps. Work  1 efficiency 0.70\n",
      "INFO     Iter     |r|                         |x|         RER\n",
      "INFO     0     1.351e+00                    4.469e-01    3.024\n",
      "INFO     1     5.312e-01 (0.394) [0.394]    2.765e-01    1.930 (0.637)\n",
      "INFO     2     2.239e-01 (0.422) [0.408]    2.093e-01    1.081 (0.560)\n",
      "INFO     3     1.023e-01 (0.458) [0.424]    1.792e-01    0.580 (0.537)\n",
      "INFO     4     5.333e-02 (0.521) [0.446]    1.630e-01    0.334 (0.575)\n",
      "INFO     5     3.196e-02 (0.599) [0.474]    1.527e-01    0.214 (0.641)\n",
      "INFO     6     2.149e-02 (0.671) [0.502]    1.455e-01    0.152 (0.706)\n",
      "INFO     7     1.579e-02 (0.734) [0.530]    1.401e-01    0.116 (0.764)\n",
      "INFO     8     1.228e-02 (0.777) [0.556]    1.359e-01    0.093 (0.803)\n",
      "INFO     9     9.933e-03 (0.809) [0.580]    1.324e-01    0.077 (0.832)\n",
      "INFO     10    8.271e-03 (0.833) [0.601]    1.295e-01    0.066 (0.853)\n",
      "GS    conv 0.83 shrinkage 0.50 PODR RER 0.15 after  6 sweeps. Work  1 efficiency 0.50\n",
      "kh 0.7\n",
      "INFO     Iter     |r|                         |x|         RER\n",
      "INFO     0     1.272e+00                    4.470e-01    2.843\n",
      "INFO     1     7.110e-01 (0.560) [0.560]    3.415e-01    2.089 (0.733)\n",
      "INFO     2     4.188e-01 (0.590) [0.575]    2.918e-01    1.447 (0.692)\n",
      "INFO     3     2.630e-01 (0.629) [0.593]    2.659e-01    1.001 (0.692)\n",
      "INFO     4     1.804e-01 (0.687) [0.615]    2.501e-01    0.731 (0.731)\n",
      "INFO     5     1.351e-01 (0.748) [0.640]    2.389e-01    0.574 (0.784)\n",
      "INFO     6     1.097e-01 (0.811) [0.666]    2.303e-01    0.484 (0.843)\n",
      "INFO     7     9.437e-02 (0.860) [0.691]    2.230e-01    0.431 (0.888)\n",
      "INFO     8     8.392e-02 (0.889) [0.713]    2.168e-01    0.395 (0.915)\n",
      "INFO     9     7.628e-02 (0.908) [0.733]    2.112e-01    0.369 (0.933)\n",
      "INFO     10    7.041e-02 (0.923) [0.750]    2.061e-01    0.349 (0.946)\n",
      "Kac   conv 0.92 shrinkage 0.71 PODR RER 0.39 after  8 sweeps. Work  1 efficiency 0.71\n",
      "INFO     Iter     |r|                         |x|         RER\n",
      "INFO     0     1.281e+00                    4.467e-01    2.872\n",
      "INFO     1     5.820e-01 (0.455) [0.455]    3.603e-01    1.626 (0.565)\n",
      "INFO     2     3.201e-01 (0.551) [0.501]    4.370e-01    0.739 (0.455)\n",
      "INFO     3     3.056e-01 (0.953) [0.622]    6.290e-01    0.487 (0.662)\n",
      "INFO     4     4.362e-01 (1.423) [0.765]    9.529e-01    0.457 (0.940)\n",
      "GS    conv 1.42 shrinkage 0.50 PODR RER 0.74 after  2 sweeps. Work  1 efficiency 0.50\n"
     ]
    },
    {
     "data": {
      "image/png": "[encoded data removed]",
      "text/plain": [
       "<Figure size 864x288 with 2 Axes>"
      ]
     },
     "metadata": {
      "needs_background": "light"
     },
     "output_type": "display_data"
    }
   ],
   "source": [
    "kh_values = [0, kh]\n",
    "fig, axs = plt.subplots(1, len(kh_values), figsize=(12, 4))\n",
    "\n",
    "kaczmarz = lambda a: hm.solve.relax.KaczmarzRelaxer(a, scipy.sparse.eye(a.shape[0]))\n",
    "gs = lambda a: hm.solve.relax.GsRelaxer(a)\n",
    "work = 1\n",
    "\n",
    "print(\"PODR = point of diminishing returns\")\n",
    "print(\"Efficiency = residual reduction per sweep\")\n",
    "# Kaczmarz.\n",
    "for kh_value, ax in zip(kh_values, axs):\n",
    "    print(\"kh\", kh_value)\n",
    "    a_kh = hm.linalg.helmholtz_1d_5_point_operator(kh_value, n).tocsr()\n",
    "    operator = lambda x: a_kh.dot(x)\n",
    "\n",
    "    for title, relax, color in zip((\"Kac\", \"GS\"), (kaczmarz, gs), (\"blue\", \"red\")):\n",
    "        method = relax(a_kh)\n",
    "        factor, num_sweeps, residual, conv, rer, conv_factor = hm.solve.smoothing.shrinkage_factor(\n",
    "            operator, lambda x, b: method.step(x, b), (a_kh.shape[0], ), \n",
    "            print_frequency=1, max_sweeps=10, slow_conv_factor=1.1, leeway_factor=leeway_factor)\n",
    "        hm.solve.smoothing.plot_diminishing_returns_point(factor, num_sweeps, conv, ax, title=title, color=color)\n",
    "        print(\"{:<5s} conv {:.2f} shrinkage {:.2f} PODR RER {:.2f} after {:>2d} sweeps. Work {:>2d} efficiency {:.2f}\".format(\n",
    "            title, conv_factor, factor, np.mean(rer[num_sweeps]), num_sweeps, work, np.mean(residual[num_sweeps] / residual[0]) ** (1/(num_sweeps * work))))\n",
    "    \n",
    "    ax.set_title(r\"$kh = {:.2f}$\".format(kh_value))\n",
    "    ax.legend()"
   ]
  },
  {
   "cell_type": "markdown",
   "id": "bc6d8cb5-0318-48e8-aa7d-7634e3ae6407",
   "metadata": {
    "tags": []
   },
   "source": [
    "The point of diminishing returns in each scatterplot is circled.\n",
    "\n",
    "This estimate seems to give a reasonable estimate for both $kh$ values and both relaxation schemes (albeit not a quantitative smoothing factor, which can only be defined based on a coarsening), showing that GS is a better smoother for both $kh = 0, 0.5$, but slightly diverges for $kh = 0.5$. The RER at the point of diminishing returns is much smaller.\n",
    "\n",
    "Averaging over multiple random starts helps reduce noise, as well as assuming a constant reduction per sweep in the initial sweeps (as opposed to a linear model, say). We are only interested in a rough estimate."
   ]
  },
  {
   "cell_type": "markdown",
   "id": "70451861-a589-4b2b-b6c7-6c67449d85e5",
   "metadata": {},
   "source": [
    "**TODO: output asymptotic convergence factor a little past PODR to see if relax diverges.**"
   ]
  },
  {
   "cell_type": "markdown",
   "id": "16d8ea80-45ed-47b0-aa8e-85fcdc5526e6",
   "metadata": {},
   "source": [
    "### Coarsening: Optimizing $a$, $n_c$"
   ]
  },
  {
   "cell_type": "code",
   "execution_count": 11,
   "id": "02954b00-7662-4253-aa30-e8b770283a2c",
   "metadata": {},
   "outputs": [],
   "source": [
    "a = hm.linalg.helmholtz_1d_5_point_operator(kh, n).tocsr()\n",
    "a0 = a\n",
    "level = hm.setup.hierarchy.create_finest_level(a)"
   ]
  },
  {
   "cell_type": "code",
   "execution_count": 12,
   "id": "2e221b74-3315-4384-ae18-7f161bd036b9",
   "metadata": {},
   "outputs": [
    {
     "name": "stdout",
     "output_type": "stream",
     "text": [
      "INFO     kh 0.7\n",
      "INFO     Relax at level 0 size 96\n",
      "INFO     Relax conv 0.93 shrinkage 0.65 PODR RER 0.59 after 5 sweeps. Work 1.0 eff 0.65\n",
      "INFO     Generating TVs with 5 sweeps\n",
      "INFO     RER 0.634\n"
     ]
    }
   ],
   "source": [
    "_LOGGER.info(\"kh {}\".format(kh))\n",
    "x_log = []\n",
    "r_log = []\n",
    "\n",
    "# Initialize hierarchy to 1-level and fine-level test functions to random.\n",
    "finest = 0\n",
    "multilevel = hm.hierarchy.multilevel.Multilevel.create(level)\n",
    "\n",
    "_LOGGER.info(\"Relax at level {} size {}\".format(finest, level.size))\n",
    "b = np.zeros((a.shape[0], num_examples))\n",
    "\n",
    "factor, num_sweeps, residual, conv, rer, relax_conv_factor = hm.solve.smoothing.shrinkage_factor(\n",
    "    operator, lambda x, b: level.relax(x, b), (a_kh.shape[0], ), \n",
    "    print_frequency=None, max_sweeps=20, slow_conv_factor=1.1)\n",
    "_LOGGER.info(\"Relax conv {:.2f} shrinkage {:.2f} PODR RER {:.2f} after {} sweeps. Work {:.1f} eff {:.2f}\".format(\n",
    "    relax_conv_factor, factor, np.mean(rer[num_sweeps]), num_sweeps, work, np.mean(residual[num_sweeps] / residual[0]) ** (1/(num_sweeps * work))))\n",
    "\n",
    "# TODO(orenlivne): generalize to d-dimensions. This is specific to 1D.\n",
    "x = hm.solve.run.random_test_matrix((a.shape[0],), num_examples=num_examples)\n",
    "# Improve vectors with 1-level relaxation.\n",
    "x_log.append(x)\n",
    "\n",
    "_LOGGER.info(\"Generating TVs with {} sweeps\".format(num_sweeps))\n",
    "x, _ = hm.solve.run.run_iterative_method(\n",
    "    level.operator, lambda x: level.relax(x, b), x, num_sweeps=num_sweeps)\n",
    "_LOGGER.info(\"RER {:.3f}\".format(norm(a.dot(x)) / norm(x)))\n",
    "x_log.append(x)"
   ]
  },
  {
   "cell_type": "code",
   "execution_count": 13,
   "id": "e63e2c63-2a2c-452f-bb8c-361a89b5211b",
   "metadata": {},
   "outputs": [
    {
     "ename": "ValueError",
     "evalue": "The truth value of an array with more than one element is ambiguous. Use a.any() or a.all()",
     "output_type": "error",
     "traceback": [
      "\u001b[0;31m---------------------------------------------------------------------------\u001b[0m",
      "\u001b[0;31mValueError\u001b[0m                                Traceback (most recent call last)",
      "\u001b[0;32m/var/folders/3k/z6rf4cwj2b1bs57qshd9j_k4fbwv1r/T/ipykernel_17515/1919232102.py\u001b[0m in \u001b[0;36m<module>\u001b[0;34m\u001b[0m\n\u001b[1;32m      5\u001b[0m \u001b[0mmax_conv_factor\u001b[0m \u001b[0;34m=\u001b[0m \u001b[0;36m0.3\u001b[0m\u001b[0;34m\u001b[0m\u001b[0;34m\u001b[0m\u001b[0m\n\u001b[1;32m      6\u001b[0m \u001b[0;34m\u001b[0m\u001b[0m\n\u001b[0;32m----> 7\u001b[0;31m \u001b[0mcoarsener\u001b[0m \u001b[0;34m=\u001b[0m \u001b[0mhm\u001b[0m\u001b[0;34m.\u001b[0m\u001b[0msetup\u001b[0m\u001b[0;34m.\u001b[0m\u001b[0mcoarsening_uniform\u001b[0m\u001b[0;34m.\u001b[0m\u001b[0mUniformCoarsener\u001b[0m\u001b[0;34m(\u001b[0m\u001b[0mlevel\u001b[0m\u001b[0;34m,\u001b[0m \u001b[0mx\u001b[0m\u001b[0;34m,\u001b[0m \u001b[0maggregate_size_values\u001b[0m\u001b[0;34m,\u001b[0m \u001b[0mnu_values\u001b[0m\u001b[0;34m,\u001b[0m \u001b[0mrepetitive\u001b[0m\u001b[0;34m=\u001b[0m\u001b[0mrepetitive\u001b[0m\u001b[0;34m)\u001b[0m\u001b[0;34m\u001b[0m\u001b[0;34m\u001b[0m\u001b[0m\n\u001b[0m\u001b[1;32m      8\u001b[0m \u001b[0mr\u001b[0m\u001b[0;34m,\u001b[0m \u001b[0maggregate_size\u001b[0m\u001b[0;34m,\u001b[0m \u001b[0mnc\u001b[0m\u001b[0;34m,\u001b[0m \u001b[0mcr\u001b[0m\u001b[0;34m,\u001b[0m \u001b[0mmean_energy_error\u001b[0m\u001b[0;34m,\u001b[0m \u001b[0mnu\u001b[0m\u001b[0;34m,\u001b[0m \u001b[0mmock_conv\u001b[0m\u001b[0;34m,\u001b[0m \u001b[0mmock_work\u001b[0m\u001b[0;34m,\u001b[0m \u001b[0mmock_efficiency\u001b[0m \u001b[0;34m=\u001b[0m\u001b[0;31m \u001b[0m\u001b[0;31m\\\u001b[0m\u001b[0;34m\u001b[0m\u001b[0;34m\u001b[0m\u001b[0m\n\u001b[1;32m      9\u001b[0m     \u001b[0mcoarsener\u001b[0m\u001b[0;34m.\u001b[0m\u001b[0mget_optimal_coarsening\u001b[0m\u001b[0;34m(\u001b[0m\u001b[0mmax_conv_factor\u001b[0m\u001b[0;34m)\u001b[0m\u001b[0;34m\u001b[0m\u001b[0;34m\u001b[0m\u001b[0m\n",
      "\u001b[0;32m~/helmholtz/src/helmholtz/setup/coarsening_uniform.py\u001b[0m in \u001b[0;36m__init__\u001b[0;34m(self, level, x, nu, max_aggregate_size, cycle_index, cycle_coarse_level_work_bound, max_energy_loss, expected_eventual_coarsening_ratio, min_trusted_mock_conv_factor, efficiency_leeway_factor, repetitive)\u001b[0m\n\u001b[1;32m    166\u001b[0m \u001b[0;34m\u001b[0m\u001b[0m\n\u001b[1;32m    167\u001b[0m         \u001b[0mdomain_size\u001b[0m \u001b[0;34m=\u001b[0m \u001b[0mx\u001b[0m\u001b[0;34m.\u001b[0m\u001b[0mshape\u001b[0m\u001b[0;34m[\u001b[0m\u001b[0;36m0\u001b[0m\u001b[0;34m]\u001b[0m\u001b[0;34m\u001b[0m\u001b[0;34m\u001b[0m\u001b[0m\n\u001b[0;32m--> 168\u001b[0;31m         \u001b[0maggregate_size_values\u001b[0m \u001b[0;34m=\u001b[0m \u001b[0mnp\u001b[0m\u001b[0;34m.\u001b[0m\u001b[0marange\u001b[0m\u001b[0;34m(\u001b[0m\u001b[0;36m2\u001b[0m\u001b[0;34m,\u001b[0m \u001b[0mmax_aggregate_size\u001b[0m \u001b[0;34m+\u001b[0m \u001b[0;36m1\u001b[0m\u001b[0;34m,\u001b[0m \u001b[0mdtype\u001b[0m\u001b[0;34m=\u001b[0m\u001b[0mint\u001b[0m\u001b[0;34m)\u001b[0m\u001b[0;34m\u001b[0m\u001b[0;34m\u001b[0m\u001b[0m\n\u001b[0m\u001b[1;32m    169\u001b[0m         \u001b[0;32mif\u001b[0m \u001b[0mrepetitive\u001b[0m\u001b[0;34m:\u001b[0m\u001b[0;34m\u001b[0m\u001b[0;34m\u001b[0m\u001b[0m\n\u001b[1;32m    170\u001b[0m             \u001b[0;31m# In a repetitive framework, ensure that the aggregate size divides the domain size.\u001b[0m\u001b[0;34m\u001b[0m\u001b[0;34m\u001b[0m\u001b[0m\n",
      "\u001b[0;31mValueError\u001b[0m: The truth value of an array with more than one element is ambiguous. Use a.any() or a.all()"
     ]
    }
   ],
   "source": [
    "# Calculate mock cycle predicted efficiency.\n",
    "aggregate_size_values = np.array([2, 4, 6])\n",
    "nu_values = np.arange(1, 5, dtype=int)\n",
    "# TODO: determine this based on cycle index.\n",
    "max_conv_factor = 0.3\n",
    "\n",
    "coarsener = hm.setup.coarsening_uniform.UniformCoarsener(level, x, aggregate_size_values, nu_values, repetitive=repetitive)\n",
    "r, aggregate_size, nc, cr, mean_energy_error, nu, mock_conv, mock_work, mock_efficiency = \\\n",
    "    coarsener.get_optimal_coarsening(max_conv_factor)\n",
    "print(\"kh {:.2f} R {} a {} nc {} cr {:.2f} mean_energy_error {:.4f}; mock cycle nu {} conv {:.2f} efficiency {:.2f}\".format(\n",
    "  kh, r.shape, aggregate_size, nc, cr, mean_energy_error, nu, mock_conv, mock_efficiency))"
   ]
  },
  {
   "cell_type": "code",
   "execution_count": null,
   "id": "99a7e7b8-d6ad-47ea-9d52-ffc2bc7e6e81",
   "metadata": {},
   "outputs": [],
   "source": [
    "info = coarsener.get_coarsening_info(1)\n",
    "columns=(\"i\", \"a\", \"nc\", \"cr\", \"Energy Error\", \"nu\", \"conv\", \"work\", \"eff\")\n",
    "pd.DataFrame(info).rename(columns=dict(enumerate(columns))).astype(\n",
    "    {\"i\": \"int32\", \"a\": \"int32\", \"nc\": \"int32\", \"nu\": \"int32\"})"
   ]
  },
  {
   "cell_type": "markdown",
   "id": "d630cb7c-8303-464d-9ef4-95063520d214",
   "metadata": {},
   "source": [
    "The optimal coarsening (based on mock cycle efficiency) is for a larger aggregate ($4/2$) only for a sufficiently large $kh$, of $\\approx 0.7$. Even at $kh = 0.5$, $2/1$ coarsening is (very slightly) better."
   ]
  },
  {
   "cell_type": "markdown",
   "id": "2065cab5-5772-4cb6-9a38-e623ecfce1e0",
   "metadata": {},
   "source": [
    "### Build Coarse Level: Two-level Bootstrap Cycle"
   ]
  },
  {
   "cell_type": "code",
   "execution_count": null,
   "id": "4c5163b8-56d3-4349-8f04-7fba7292a7ae",
   "metadata": {},
   "outputs": [],
   "source": [
    "max_levels = 2\n",
    "num_bootstrap_steps = 1\n",
    "\n",
    "# Bootstrap with an increasingly deeper hierarchy (add one level at a time).\n",
    "num_levels = 2\n",
    "_LOGGER.info(\"bootstrap on grid size {} with {} levels\".format(x.shape[0], max_levels))\n",
    "_LOGGER.info(\"-\" * 80)\n",
    "for i in range(num_bootstrap_steps):\n",
    "    _LOGGER.info(\"Bootstrap step {}/{}\".format(i + 1, num_bootstrap_steps))\n",
    "    # Set relax_conv_factor to a high value so that we never append a bootstrap vector to the TV set.\n",
    "    x, multilevel = hm.setup.auto_setup.bootstap(\n",
    "        x, multilevel, num_levels, 2.0,\n",
    "        num_sweeps=num_sweeps, interpolation_method=interpolation_method, neighborhood=neighborhood, repetitive=repetitive)\n",
    "    x_log.append(x)\n",
    "    r_log.append(multilevel[1].r)\n",
    "    _LOGGER.info(\"RER {:.6f}\".format(norm(a.dot(x)) / norm(x)))\n",
    "    _LOGGER.info(\"-\" * 80)"
   ]
  },
  {
   "cell_type": "markdown",
   "id": "66f2e3c3-6005-4824-824a-a956471763b5",
   "metadata": {},
   "source": [
    "<!-- ### Interpolation Error -->"
   ]
  },
  {
   "cell_type": "code",
   "execution_count": null,
   "id": "a9ea0cd1-23c3-4243-93b9-30f897f59aed",
   "metadata": {},
   "outputs": [],
   "source": [
    "# p = multilevel[1].p\n",
    "# r = multilevel[1].r\n",
    "# x_fit, x_test = x[:, :-num_test_examples], x[:, -num_test_examples:]\n",
    "# e = x - p.dot(r.dot(x))\n",
    "# error = norm(e, axis=0) / norm(x, axis=0)\n",
    "# error_a = norm(level.a.dot(e), axis=0) / norm(x, axis=0)\n",
    "# print(error_a)\n",
    "# # print(e[2])\n",
    "# # print(p[2].todense())\n",
    "# # print(x[2])"
   ]
  },
  {
   "cell_type": "markdown",
   "id": "133ff870-2b78-4ca0-84c9-7ce1dad737b2",
   "metadata": {},
   "source": [
    "### Level 1 Relaxation Shrinkage Factor"
   ]
  },
  {
   "cell_type": "code",
   "execution_count": null,
   "id": "efd9c302-68ef-42b5-b6f0-7918e7ec3dec",
   "metadata": {},
   "outputs": [],
   "source": [
    "level = multilevel[1]\n",
    "a = level.a\n",
    "x_random = hm.solve.run.random_test_matrix((a.shape[0],), num_examples=num_examples)\n",
    "b = np.zeros_like(x_random)\n",
    "\n",
    "work = 1\n",
    "fig, ax = plt.subplots(1, 1, figsize=(6, 4))\n",
    "title = \"kac\"\n",
    "relax = kaczmarz\n",
    "color = \"blue\"\n",
    "\n",
    "relax = lambda x, b: level.relax(x, b)\n",
    "factor, num_sweeps, residual, conv, rer, conv_factor = hm.solve.smoothing.shrinkage_factor(\n",
    "    level.operator, relax, (a.shape[0], ), print_frequency=1, max_sweeps=10, slow_conv_factor=2, \n",
    "    num_examples=5, leeway_factor=leeway_factor)\n",
    "hm.solve.smoothing.plot_diminishing_returns_point(factor, num_sweeps, conv, ax, title=title, color=color)\n",
    "print(\"{:<5s} conv {:.2f} shrinkage {:.2f} PODR RER {:.2f} after {:>2d} sweeps. Work {:>2d} efficiency {:.2f}\".format(\n",
    "    title, conv_factor, factor, np.mean(rer[num_sweeps]), num_sweeps, work, np.mean(residual[num_sweeps] / residual[0]) ** (1/(num_sweeps * work))))\n",
    "\n",
    "ax.set_title(r\"$kh = {:.2f}$\".format(kh))\n",
    "ax.legend();\n",
    "\n",
    "nu_coarsest = num_sweeps"
   ]
  },
  {
   "cell_type": "markdown",
   "id": "85b80f21-273f-4386-af12-794f9bd4e239",
   "metadata": {},
   "source": [
    "The coarse-level relaxation is still a good smoother, even though less effective than the fine-level relaxation. This means we built reasonable coarse-level equations that can be solved without advanced relaxation design techniques."
   ]
  },
  {
   "cell_type": "markdown",
   "id": "09617d38-e7e4-453d-93c9-02c935b5a14f",
   "metadata": {},
   "source": [
    "### Relaxation Cycle Shrinkage\n",
    "We compare a two-level relaxation cycle with $\\nu_1=1, \\nu_2=1, \\nu_{coarse}=$ # relaxations until the coarse-level relaxation slows down, with fine-level Kaczmarz relaxation."
   ]
  },
  {
   "cell_type": "code",
   "execution_count": null,
   "id": "d9677b9d-e769-4b84-b0b7-688e25cd236a",
   "metadata": {},
   "outputs": [],
   "source": [
    "hm.solve.smoothing.check_relax_cycle_shrinkage(\n",
    "    multilevel, nu_pre=1, nu_post=1, nu_coarsest=nu_coarsest)"
   ]
  },
  {
   "cell_type": "markdown",
   "id": "588bb098-1da0-444b-b9bd-e0f45eb0f23e",
   "metadata": {},
   "source": [
    "#### Observations\n",
    "* The first cycle increases the residual! Unless enough relaxations (4) are performed at the finest level.\n",
    "* Convergence is faster than relaxation ($0.4$ vs. $0.6$) until the slowdown.\n",
    "* The RER at the PODR is a lot smaller than in relaxation."
   ]
  },
  {
   "cell_type": "markdown",
   "id": "2677f852-bedd-46ec-958f-475f7413cdce",
   "metadata": {},
   "source": [
    "## Level 1->2 Coarsening"
   ]
  },
  {
   "cell_type": "markdown",
   "id": "26daff38-b358-48f7-a7cb-505526e0686d",
   "metadata": {},
   "source": [
    "### Two-level Bootstrapping"
   ]
  },
  {
   "cell_type": "code",
   "execution_count": null,
   "id": "ea8f65f0-4d75-430c-b718-99be2c73c513",
   "metadata": {},
   "outputs": [],
   "source": [
    "num_examples = 5\n",
    "max_levels = 2\n",
    "num_bootstrap_steps = 1\n",
    "\n",
    "x_log = []\n",
    "r_log = []\n",
    "\n",
    "# Initialize hierarchy to 1-level and fine-level test functions to random.\n",
    "finest = 0\n",
    "multilevel1 = hm.hierarchy.multilevel.Multilevel.create(level)\n",
    "_LOGGER.info(\"Relax at level {} size {}\".format(finest, level.size))\n",
    "b = np.zeros((level.a.shape[0], num_examples))\n",
    "factor, num_sweeps, residual, conv, rer, relax_conv_factor = hm.solve.smoothing.shrinkage_factor(\n",
    "    level.operator, lambda x, b: level.relax(x, b), (level.a.shape[0], ), \n",
    "    print_frequency=None, max_sweeps=20, slow_conv_factor=1.1, leeway_factor=leeway_factor)\n",
    "_LOGGER.info(\"Relax conv {:.2f} shrinkage {:.2f} PODR RER {:.2f} after {} sweeps. Work {:.1f} eff {:.2f}\".format(\n",
    "    relax_conv_factor, factor, np.mean(rer[num_sweeps]), num_sweeps, work, np.mean(residual[num_sweeps] / residual[0]) ** (1/(num_sweeps * work))))\n",
    "\n",
    "# Start from random again. Level 0 doesn't exist here.\n",
    "x = hm.solve.run.random_test_matrix((a.shape[0],), num_examples=num_examples)\n",
    "x_log.append(x)\n",
    "\n",
    "# Improve vectors with 1-level relaxation.\n",
    "_LOGGER.info(\"Generating TVs with {} sweeps\".format(num_sweeps))\n",
    "x, _ = hm.solve.run.run_iterative_method(\n",
    "    level.operator, lambda x: level.relax(x, b), x, num_sweeps=num_sweeps)\n",
    "_LOGGER.info(\"RER {:.3f}\".format(norm(a.dot(x)) / norm(x)))\n",
    "x_log.append(x)\n",
    "\n",
    "# Bootstrap with an increasingly deeper hierarchy (add one level at a time).\n",
    "num_levels = 2\n",
    "_LOGGER.info(\"bootstrap on grid size {} with {} levels\".format(x.shape[0], max_levels))\n",
    "_LOGGER.info(\"-\" * 80)\n",
    "for i in range(num_bootstrap_steps):\n",
    "    _LOGGER.info(\"Bootstrap step {}/{}\".format(i + 1, num_bootstrap_steps))\n",
    "    # Set relax_conv_factor to a high value so that we never append a bootstrap vector to the TV set.\n",
    "    x, multilevel1 = hm.setup.auto_setup.bootstap(\n",
    "        x, multilevel1, num_levels, 2.0,\n",
    "        num_sweeps=num_sweeps, interpolation_method=interpolation_method, neighborhood=neighborhood,\n",
    "        repetitive=repetitive)\n",
    "    x_log.append(x)\n",
    "    r_log.append(multilevel1[1].r)\n",
    "    _LOGGER.info(\"RER {:.6f}\".format(norm(a.dot(x)) / norm(x)))\n",
    "    _LOGGER.info(\"-\" * 80)\n",
    "    \n",
    "# Merge the 1-2 hierarchy into the 0-1 to create 0-1-2.\n",
    "multilevel.add(multilevel1[1])"
   ]
  },
  {
   "cell_type": "markdown",
   "id": "3f31e8f0-6c72-47e9-89ee-b935db57d897",
   "metadata": {},
   "source": [
    "Note that we are now able to reduce the RER of the TVs consisently with bootstrap cycles at level 1."
   ]
  },
  {
   "cell_type": "markdown",
   "id": "90f58582-22a1-4e90-b809-6aebbdc3b6fb",
   "metadata": {},
   "source": [
    "### Level 2 Relaxation Shrinkage"
   ]
  },
  {
   "cell_type": "code",
   "execution_count": null,
   "id": "66a12446-4b56-4051-952a-e69916d82392",
   "metadata": {},
   "outputs": [],
   "source": [
    "level = multilevel[2]\n",
    "print(\"Level size {}\".format(level.size))\n",
    "a = level.a\n",
    "x_random = hm.solve.run.random_test_matrix((a.shape[0],), num_examples=num_examples)\n",
    "b = np.zeros_like(x_random)\n",
    "\n",
    "work = 1\n",
    "fig, ax = plt.subplots(1, 1, figsize=(6, 4))\n",
    "title = \"kac\"\n",
    "relax = kaczmarz\n",
    "color = \"blue\"\n",
    "\n",
    "relax = lambda x, b: level.relax(x, b)\n",
    "factor, num_sweeps, residual, conv, rer, conv_factor = hm.solve.smoothing.shrinkage_factor(\n",
    "    level.operator, relax, (a.shape[0], ), print_frequency=1, max_sweeps=20, slow_conv_factor=2, \n",
    "    num_examples=5, leeway_factor=leeway_factor)\n",
    "hm.solve.smoothing.plot_diminishing_returns_point(factor, num_sweeps, conv, ax, title=title, color=color)\n",
    "print(\"{:<5s} conv {:.2f} shrinkage {:.2f} PODR RER {:.2f} after {:>2d} sweeps. Work {:>2d} efficiency {:.2f}\".format(\n",
    "    title, conv_factor, factor, np.mean(rer[num_sweeps]), num_sweeps, work, np.mean(residual[num_sweeps] / residual[0]) ** (1/(num_sweeps * work))))\n",
    "\n",
    "ax.set_title(r\"$kh = {:.2f}$\".format(kh))\n",
    "ax.legend();\n",
    "\n",
    "nu_coarsest = num_sweeps"
   ]
  },
  {
   "cell_type": "code",
   "execution_count": null,
   "id": "b5aa8096-0bc7-4324-96c2-e08d372bdedd",
   "metadata": {},
   "outputs": [],
   "source": [
    "hm.solve.smoothing.check_relax_cycle_shrinkage(\n",
    "    multilevel, max_sweeps=100,\n",
    "    nu_pre=1, nu_post=1, nu_coarsest=3)"
   ]
  },
  {
   "cell_type": "markdown",
   "id": "e97b13ee-75a4-4a0e-97e0-a0129a7358b1",
   "metadata": {},
   "source": [
    "* Level 2 relaxation behaves weirdly: it slows down after exactly one sweep. One sweep is fast, then the residual reduction goes up, then down, then slowly back up again.\n",
    "* The Level 1-2 min-cycle is not more efficient."
   ]
  },
  {
   "cell_type": "markdown",
   "id": "ce6ffc0b-5905-465e-811f-8685bcf75720",
   "metadata": {},
   "source": [
    "### Operators"
   ]
  },
  {
   "cell_type": "markdown",
   "id": "7cffeb20-2810-433e-8a47-5efec9d67bb4",
   "metadata": {},
   "source": [
    "#### Level 0"
   ]
  },
  {
   "cell_type": "code",
   "execution_count": null,
   "id": "86df8cdb-26a7-40b0-a8ff-61861e8d6160",
   "metadata": {},
   "outputs": [],
   "source": [
    "pd.DataFrame(multilevel[0].a[:10,:10].todense())"
   ]
  },
  {
   "cell_type": "markdown",
   "id": "33dab42e-75e8-4e9d-8931-d2746b4ed469",
   "metadata": {},
   "source": [
    "#### Level 1"
   ]
  },
  {
   "cell_type": "code",
   "execution_count": null,
   "id": "50290f6a-0e71-4b55-87e9-f3669dd23036",
   "metadata": {},
   "outputs": [],
   "source": [
    "pd.DataFrame(multilevel[1].a[:12, :12].todense())"
   ]
  },
  {
   "cell_type": "code",
   "execution_count": null,
   "id": "6f089bf1-8bb2-49db-ba0f-fca2768b1531",
   "metadata": {},
   "outputs": [],
   "source": [
    "pd.DataFrame(multilevel[1].p[:10,:10].todense())"
   ]
  },
  {
   "cell_type": "markdown",
   "id": "53b362f6-dc6f-4c40-ba97-e9c08183eb12",
   "metadata": {},
   "source": [
    "#### Level 2"
   ]
  },
  {
   "cell_type": "code",
   "execution_count": null,
   "id": "b307543c-ad15-46bc-bf7c-87b6cb73db73",
   "metadata": {},
   "outputs": [],
   "source": [
    "pd.DataFrame(multilevel[2].a[:12, :12].todense())"
   ]
  },
  {
   "cell_type": "code",
   "execution_count": null,
   "id": "7679db89-14ac-4e83-bb9c-6950b33b1b19",
   "metadata": {},
   "outputs": [],
   "source": [
    "pd.DataFrame(multilevel[2].p[:12, :12].todense())"
   ]
  },
  {
   "cell_type": "markdown",
   "id": "d4bbf029-9408-4887-8b77-c83034e736c3",
   "metadata": {},
   "source": [
    "## How Does the Coarse Variables Look Like?\n",
    "Print rows of $R_L \\cdot \\dots \\cdot R_1$ and columns of $P_1 \\cdot \\dots \\cdot P_L$ (for $L$ levels of coarsening)."
   ]
  },
  {
   "cell_type": "code",
   "execution_count": null,
   "id": "b319c906-6410-4e1e-9dd7-3b96cf00be68",
   "metadata": {},
   "outputs": [],
   "source": [
    "r1 = multilevel[1].r\n",
    "p1 = multilevel[1].p\n",
    "\n",
    "r2 = multilevel[2].r\n",
    "p2 = multilevel[2].p\n",
    "\n",
    "p = p1.dot(p2)\n",
    "r = r2.dot(r1)"
   ]
  },
  {
   "cell_type": "code",
   "execution_count": null,
   "id": "07e860a8-9292-401c-b54c-132a6b60b91d",
   "metadata": {},
   "outputs": [],
   "source": [
    "num_vars = 5\n",
    "fig, axs = plt.subplots(num_vars, 4, figsize=(16, 12))\n",
    "start_index = 10\n",
    "\n",
    "col_titles = (\"Level 1, P\", \"Level 1, R\", \"Level 2, P\", \"Level 1, R\") \n",
    "for ax, col in zip(axs[0], col_titles):\n",
    "    ax.set_title(col)\n",
    "    \n",
    "for i in range(num_vars):\n",
    "    j = start_index + i\n",
    "    \n",
    "    ax = axs[i, 0]\n",
    "    ax.plot(p1[:, j].nonzero()[0], p1[:, j].data)\n",
    "    ax.grid(True)\n",
    "    \n",
    "    ax = axs[i, 1]\n",
    "    ax.plot(r1[j].nonzero()[1], r1[j].data)\n",
    "    ax.grid(True)\n",
    "    \n",
    "    ax = axs[i, 2]\n",
    "    ax.plot(p[:, j].nonzero()[0], p[:, j].data, \"r\")\n",
    "    ax.grid(True)\n",
    "    \n",
    "    ax = axs[i, 3]\n",
    "    ax.plot(r[j].nonzero()[1], r[j].data, \"r\")\n",
    "    ax.grid(True)"
   ]
  },
  {
   "cell_type": "markdown",
   "id": "1f348995-b999-4c76-8b14-3fd143a3be69",
   "metadata": {},
   "source": [
    "The coarse variables ($R$) look like wavelets. The interpolations ($P$) look like a sync, all makes sense."
   ]
  },
  {
   "cell_type": "markdown",
   "id": "6032c786-e21f-47ae-b412-a77971833e9e",
   "metadata": {},
   "source": [
    "## Eigenpairs of the Different Level Operators"
   ]
  },
  {
   "cell_type": "code",
   "execution_count": null,
   "id": "83eb1716-fb1c-4c2a-9e6b-0bb356355097",
   "metadata": {},
   "outputs": [],
   "source": [
    "# Calculate eigenpairs at all levels.\n",
    "vl = []\n",
    "laml = []\n",
    "for l, level in enumerate(multilevel):\n",
    "    a = level.a\n",
    "    lam, v = eig(a.todense())\n",
    "    lam = np.real(lam)\n",
    "    ind = np.argsort(np.abs(lam))\n",
    "    lam = lam[ind]\n",
    "    v = v[:, ind]\n",
    "    vl.append(v)\n",
    "    laml.append(lam)\n",
    "    print(l, \"lam\", lam[:13])\n",
    "    \n",
    "# Interpolate eigenvectors at all levels to the finest level.\n",
    "num_levels = len(multilevel)\n",
    "vl_finest = []\n",
    "for l in range(num_levels):\n",
    "    v = vl[l]\n",
    "    for k in range(l, 0, -1):\n",
    "        v = multilevel[k].p.dot(v)\n",
    "    vl_finest.append(v)"
   ]
  },
  {
   "cell_type": "markdown",
   "id": "772b8132-fb2c-44df-9ef1-fc260226d298",
   "metadata": {},
   "source": [
    "Looks like the smallest four eigenvalues are well approximated at all levels, to about $10\\%$ error."
   ]
  },
  {
   "cell_type": "code",
   "execution_count": null,
   "id": "dfb8031c-bd18-4ac9-a466-c0ad9a13c1dd",
   "metadata": {},
   "outputs": [],
   "source": [
    "np.abs(laml[1][:10] - laml[0][:10]) / np.abs(laml[0][:10]), np.abs(laml[2][:10] - laml[0][:10]) / np.abs(laml[0][:10])"
   ]
  },
  {
   "cell_type": "markdown",
   "id": "255b59a1-4908-4328-b7a5-922fd12ba6f9",
   "metadata": {},
   "source": [
    "### What Level 1 eigenvectors comprise the level 2 AZM?\n",
    "We calculate $(v^2_i)^T (R_2 v^1)$, which gives us the spectral decomposition coefficients of the level 2 eigenvector $v^2_i$ in terms of the coarsened level 1 eigenvectors."
   ]
  },
  {
   "cell_type": "code",
   "execution_count": null,
   "id": "90f73b89-a79a-483e-b7e6-80b3772b5eeb",
   "metadata": {},
   "outputs": [],
   "source": [
    "num_ev = 8\n",
    "fig, axs = plt.subplots(num_ev, num_levels + 1, figsize=(16, 16))\n",
    "\n",
    "for col, ax in enumerate(axs[0][:-1]):\n",
    "    ax.set_title(\"Level {}\".format(col))\n",
    "axs[0, -1].set_title(\"Level {} spectrum\".format(num_levels))\n",
    "\n",
    "for i in range(num_ev):\n",
    "    for l in range(num_levels):\n",
    "        ax = axs[i, l]\n",
    "        ax.plot(np.real(vl_finest[l][:, i]), label=\"$\\lambda_i = {:.3f}$\".format(laml[l][i]))\n",
    "        ax.legend(loc=\"upper right\")\n",
    "        ax.grid(True);\n",
    "        \n",
    "composition = (r2.dot(vl[1])).transpose().dot(vl[2])\n",
    "for i in range(num_ev):\n",
    "    ax = axs[i, num_levels]\n",
    "    ax.plot(np.real(composition[:, i]), \"r\", label = \"$v^2_{}$\".format(i))\n",
    "    ax.grid(True)\n",
    "    ax.legend();"
   ]
  },
  {
   "cell_type": "markdown",
   "id": "0007ecee-21e1-4362-8224-b3912d973e3a",
   "metadata": {},
   "source": [
    "Each level $2$ eigenvecttor corresponds to one level $1$ eigenvector (we don't see the noise introduced by test vectors that vary across the domain here)."
   ]
  },
  {
   "cell_type": "code",
   "execution_count": null,
   "id": "bb838c2f-a507-4b98-8e29-5f489da849af",
   "metadata": {},
   "outputs": [],
   "source": [
    "## Level 2 -> 3 Coarsening\n",
    "num_examples = 8\n",
    "max_levels = 2\n",
    "num_bootstrap_steps = 1\n",
    "\n",
    "x_log = []\n",
    "r_log = []\n",
    "\n",
    "# Initialize hierarchy to 1-level and fine-level test functions to random.\n",
    "finest = 0\n",
    "multilevel2 = hm.hierarchy.multilevel.Multilevel.create(level)\n",
    "_LOGGER.info(\"Relax at level {} size {}\".format(finest, level.size))\n",
    "b = np.zeros((level.a.shape[0], num_examples))\n",
    "factor, num_sweeps, residual, conv, rer, relax_conv_factor = hm.solve.smoothing.shrinkage_factor(\n",
    "    level.operator, lambda x, b: level.relax(x, b), (level.a.shape[0], ), \n",
    "    print_frequency=None, max_sweeps=20, slow_conv_factor=1.1, leeway_factor=leeway_factor)\n",
    "_LOGGER.info(\"Relax conv {:.2f} shrinkage {:.2f} PODR RER {:.2f} after {} sweeps. Work {:.1f} eff {:.2f}\".format(\n",
    "    relax_conv_factor, factor, np.mean(rer[num_sweeps]), num_sweeps, work, np.mean(residual[num_sweeps] / residual[0]) ** (1/(num_sweeps * work))))\n",
    "\n",
    "# Start from random again. Level 0 doesn't exist here.\n",
    "x = hm.solve.run.random_test_matrix((a.shape[0],), num_examples=num_examples)\n",
    "x_log.append(x)\n",
    "\n",
    "# Improve vectors with 1-level relaxation.\n",
    "_LOGGER.info(\"Generating TVs with {} sweeps\".format(num_sweeps))\n",
    "x, _ = hm.solve.run.run_iterative_method(\n",
    "    level.operator, lambda x: level.relax(x, b), x, num_sweeps=num_sweeps)\n",
    "_LOGGER.info(\"RER {:.3f}\".format(norm(a.dot(x)) / norm(x)))\n",
    "x_log.append(x)\n",
    "\n",
    "# Bootstrap with an increasingly deeper hierarchy (add one level at a time).\n",
    "num_levels = 2\n",
    "_LOGGER.info(\"bootstrap on grid size {} with {} levels\".format(x.shape[0], max_levels))\n",
    "_LOGGER.info(\"-\" * 80)\n",
    "for i in range(num_bootstrap_steps):\n",
    "    _LOGGER.info(\"Bootstrap step {}/{}\".format(i + 1, num_bootstrap_steps))\n",
    "    # Set relax_conv_factor to a high value so that we never append a bootstrap vector to the TV set.\n",
    "    x, multilevel2 = hm.setup.auto_setup.bootstap(\n",
    "        x, multilevel2, num_levels, 2.0,\n",
    "        num_sweeps=num_sweeps, interpolation_method=interpolation_method, neighborhood=neighborhood,\n",
    "        repetitive=repetitive)\n",
    "    x_log.append(x)\n",
    "    r_log.append(multilevel2[1].r)\n",
    "    _LOGGER.info(\"RER {:.6f}\".format(norm(a.dot(x)) / norm(x)))\n",
    "    _LOGGER.info(\"-\" * 80)\n",
    "    \n",
    "# Merge the 1-2 hierarchy into the 0-1 to create 0-1-2.\n",
    "multilevel.add(multilevel2[1])"
   ]
  },
  {
   "cell_type": "markdown",
   "id": "cc7577e3-d1db-4864-86eb-b250cd3d1141",
   "metadata": {},
   "source": [
    "### Level 3 Relaxation Shrinkage"
   ]
  },
  {
   "cell_type": "code",
   "execution_count": null,
   "id": "032edf1d-d6a9-4323-8eb1-dd2044109708",
   "metadata": {},
   "outputs": [],
   "source": [
    "level = multilevel[3]\n",
    "print(\"Level size {}\".format(level.size))\n",
    "a = level.a\n",
    "x_random = hm.solve.run.random_test_matrix((a.shape[0],), num_examples=num_examples)\n",
    "b = np.zeros_like(x_random)\n",
    "\n",
    "work = 1\n",
    "fig, ax = plt.subplots(1, 1, figsize=(6, 4))\n",
    "title = \"kac\"\n",
    "relax = kaczmarz\n",
    "color = \"blue\"\n",
    "\n",
    "relax = lambda x, b: level.relax(x, b)\n",
    "factor, num_sweeps, residual, conv, rer, conv_factor = hm.solve.smoothing.shrinkage_factor(\n",
    "    level.operator, relax, (a.shape[0], ), print_frequency=1, max_sweeps=20, slow_conv_factor=2, \n",
    "    num_examples=5, leeway_factor=leeway_factor)\n",
    "hm.solve.smoothing.plot_diminishing_returns_point(factor, num_sweeps, conv, ax, title=title, color=color)\n",
    "print(\"{:<5s} conv {:.2f} shrinkage {:.2f} PODR RER {:.2f} after {:>2d} sweeps. Work {:>2d} efficiency {:.2f}\".format(\n",
    "    title, conv_factor, factor, np.mean(rer[num_sweeps]), num_sweeps, work, np.mean(residual[num_sweeps] / residual[0]) ** (1/(num_sweeps * work))))\n",
    "\n",
    "ax.set_title(r\"$kh = {:.2f}$\".format(kh))\n",
    "ax.legend();\n",
    "\n",
    "nu_coarsest = num_sweeps"
   ]
  },
  {
   "cell_type": "markdown",
   "id": "7bac975a-5962-4636-8036-176d095d486a",
   "metadata": {},
   "source": [
    "On this level, relaxation converges quickly, so we can stop coarsening."
   ]
  },
  {
   "cell_type": "markdown",
   "id": "60b2adbc-dfce-4bdc-8d07-06f757df77b9",
   "metadata": {},
   "source": [
    "# Test Multilevel Cycle Convergence"
   ]
  },
  {
   "cell_type": "markdown",
   "id": "c9e2d27c-19d3-4f1b-8b73-a89747129c0d",
   "metadata": {},
   "source": [
    "### Solving $A x = 0$ (Periodic Fixed-Size Domain Problem)\n",
    "That is, solving on a periodic fixed domain. Starting from random. Even solving exactly on the coarsest level works here."
   ]
  },
  {
   "cell_type": "code",
   "execution_count": null,
   "id": "eacb82b6-fbb6-427e-9dd7-4ce7686a4aaf",
   "metadata": {},
   "outputs": [],
   "source": [
    "two_level_cycle = lambda x: hm.solve.solve_cycle.solve_cycle(multilevel, 1.0, 1, 1, num_levels=3, debug=True).run(x)\n",
    "x, conv_factor = hm.solve.run.run_iterative_method(multilevel.finest_level.operator, two_level_cycle, np.random.random((multilevel.finest_level.size, )), 8, print_frequency=1)"
   ]
  },
  {
   "cell_type": "code",
   "execution_count": null,
   "id": "4a3d4935-a1ef-44a2-843c-a24365619e99",
   "metadata": {},
   "outputs": [],
   "source": [
    "for nu in range(1, 5):\n",
    "    two_level_cycle = lambda x: hm.solve.solve_cycle.solve_cycle(multilevel, 1.0, nu, 1).run(x)\n",
    "    _, conv_factor = hm.solve.run.run_iterative_method(multilevel.finest_level.operator, two_level_cycle, np.random.random((multilevel.finest_level.size, )), 20)\n",
    "    print(\"V({}, {}) conv factor {:.3f}\".format(nu, 1, conv_factor))"
   ]
  },
  {
   "cell_type": "markdown",
   "id": "2ee7195a-0bb6-4c5d-b512-7c47022bdbb9",
   "metadata": {},
   "source": [
    "### Solving $Ax = b$\n",
    "Works the same way as for $Ax = 0$."
   ]
  },
  {
   "cell_type": "code",
   "execution_count": null,
   "id": "8427b540-a338-4a33-bba5-05ea34a302d5",
   "metadata": {},
   "outputs": [],
   "source": [
    "# Random RHS.\n",
    "b = np.random.random((a0.shape[0], ))\n",
    "\n",
    "two_level_cycle = lambda x: hm.solve.solve_cycle.solve_cycle(multilevel, 1.0, 1, 1, rhs=b).run(x)\n",
    "x, conv_factor = hm.solve.run.run_iterative_method(lambda x: b - multilevel.finest_level.operator(x), two_level_cycle, np.random.random((multilevel.finest_level.size, )), 20, print_frequency=1)"
   ]
  },
  {
   "cell_type": "markdown",
   "id": "101100a4-dc9d-434c-9a68-520296bf64bb",
   "metadata": {},
   "source": [
    "### Solving $A x = \\lambda x$\n",
    "Work in progress."
   ]
  },
  {
   "cell_type": "code",
   "execution_count": null,
   "id": "7a0d24a0-cf18-4e71-8c00-568bac21b6cb",
   "metadata": {},
   "outputs": [],
   "source": [
    "# level = multilevel.finest_level\n",
    "# lam = 0\n",
    "\n",
    "# eigen_cycle = lambda x, lam: hm.setup_eigen.eigensolver.eigen_cycle(multilevel, 1.0, 1, 1, 100, debug=True).run((x, lam))\n",
    "# # FMG start so (x, lambda) has a reasonable initial guess.\n",
    "# #x = hm.setup_eigen.bootstrap_eigen.fmg(multilevel, num_cycles_finest=0)\n",
    "# x = np.random.random((a0.shape[0], 1))\n",
    "# x, lam, conv_factor = hm.solve.run.run_iterative_eigen_method(level.operator, eigen_cycle, x, lam, 20, print_frequency=1)"
   ]
  },
  {
   "cell_type": "markdown",
   "id": "a77430a1-a90b-4439-bffd-087b39705fa6",
   "metadata": {},
   "source": [
    "## Automating the Entire Setup Phase\n",
    "Looks like the process is sensitive in two ways depending on the random seed (used to generate the initial TV at each level):\n",
    "* We might not find a good coarsening whose mock cycle rate < $0.4$ (the maximum allowed).\n",
    "* We might have too many interpolation points and not enough windows/test vectors. Especially if we coarsen by 6/4 at some point (that's because we do not yet truncate small $P$ weight).\n",
    "* The ML cycle may strongly diverge because of a particular level.\n",
    "* The domain size may not be divisible by the the aggregate size. $R$ can be periodic with an overlapping aggregate, but $P$ cannot be."
   ]
  },
  {
   "cell_type": "markdown",
   "id": "80815bf5-59fb-4e66-951a-f539571a92fa",
   "metadata": {},
   "source": [
    "### A Happy Case"
   ]
  },
  {
   "cell_type": "code",
   "execution_count": null,
   "id": "1fad76e1-48b0-41de-915b-f8e4ccc95818",
   "metadata": {},
   "outputs": [],
   "source": [
    "np.random.seed(0)\n",
    "\n",
    "multilevel = hm.setup.auto_setup.setup(a0, repetitive=repetitive, leeway_factor=leeway_factor)\n",
    "print (\"#levels\", len(multilevel.level))\n",
    "\n",
    "# Solve Ax=0.\n",
    "b = np.zeros((a0.shape[0], ))\n",
    "two_level_cycle = lambda x: hm.solve.solve_cycle.solve_cycle(multilevel, 1.0, 1, 1, rhs=b, num_levels=3).run(x)\n",
    "x, conv_factor = hm.solve.run.run_iterative_method(lambda x: b - multilevel[0].operator(x), two_level_cycle, np.random.random((a0.shape[0], )), 20, print_frequency=1)"
   ]
  },
  {
   "cell_type": "markdown",
   "id": "2fdf1307-f2f2-42ea-aed7-595ed132748b",
   "metadata": {},
   "source": [
    "### Case of Slow Solution Cycle"
   ]
  },
  {
   "cell_type": "code",
   "execution_count": null,
   "id": "414e9ea1-439b-4c99-a7c8-3f8fcbebcc11",
   "metadata": {},
   "outputs": [],
   "source": [
    "np.random.seed(2)\n",
    "\n",
    "multilevel = hm.setup.auto_setup.setup(a0, repetitive=repetitive, leeway_factor=leeway_factor)\n",
    "print (\"#levels\", len(multilevel.level))\n",
    "\n",
    "# Solve Ax=0.\n",
    "b = np.zeros((a0.shape[0], ))\n",
    "two_level_cycle = lambda x: hm.solve.solve_cycle.solve_cycle(multilevel, 1.0, 1, 1, rhs=b, num_levels=3).run(x)\n",
    "x, conv_factor = hm.solve.run.run_iterative_method(lambda x: b - multilevel.level[0].operator(x), two_level_cycle, np.random.random((a0.shape[0], )), 20, print_frequency=1)"
   ]
  },
  {
   "cell_type": "markdown",
   "id": "7d6aeb73-d5b8-4c86-8400-cc8158d28c09",
   "metadata": {},
   "source": [
    "### Dependence on $kh$\n",
    "$kh = 0.5$ is supposedly the hardest case. Here it works with the same efficiency as $kh = 0.7$."
   ]
  },
  {
   "cell_type": "code",
   "execution_count": null,
   "id": "dbe34b1a-7263-45ea-9e3f-82dcf11a3a28",
   "metadata": {},
   "outputs": [],
   "source": [
    "n = 96\n",
    "kh = 0.5\n",
    "a = hm.linalg.helmholtz_1d_5_point_operator(kh, n).tocsr()\n",
    "\n",
    "np.random.seed(0)\n",
    "multilevel = hm.setup.auto_setup.setup(a, repetitive=repetitive, leeway_factor=leeway_factor,\n",
    "                                      max_levels=3)\n",
    "print (\"#levels\", len(multilevel.level))\n",
    "\n",
    "for nu in range(1, 5):\n",
    "    two_level_cycle = lambda x: hm.solve.solve_cycle.solve_cycle(multilevel, 1.0, nu, 1).run(x)\n",
    "    _, conv_factor = hm.solve.run.run_iterative_method(multilevel.level[0].operator, two_level_cycle, np.random.random((a0.shape[0], )), 20)\n",
    "    print(\"V({}, {}) conv factor {:.3f}\".format(nu, 1, conv_factor))"
   ]
  },
  {
   "cell_type": "markdown",
   "id": "b0a05f9b-3166-4087-b74c-5b5a6b90b3a0",
   "metadata": {},
   "source": [
    "### Dependence on Problem Size\n",
    "Convergence degrades with increasing size at the moment. Sometimes the cycle completely diverges."
   ]
  },
  {
   "cell_type": "code",
   "execution_count": null,
   "id": "6f136247-d520-4817-b6fb-012c09826c32",
   "metadata": {},
   "outputs": [],
   "source": [
    "kh = 0.5\n",
    "for n in 96 * 2 ** np.arange(4):\n",
    "    a = hm.linalg.helmholtz_1d_5_point_operator(kh, n).tocsr()\n",
    "\n",
    "    np.random.seed(2)\n",
    "    multilevel = hm.setup.auto_setup.setup(a, repetitive=repetitive, leeway_factor=leeway_factor,\n",
    "                                          max_levels=3)\n",
    "    print(\"n\", n, \"#levels\", len(multilevel.level))\n",
    "\n",
    "    for nu in range(1, 5):\n",
    "        two_level_cycle = lambda x: hm.solve.solve_cycle.solve_cycle(multilevel, 1.0, nu, 1).run(x)\n",
    "        _, conv_factor = hm.solve.run.run_iterative_method(multilevel.level[0].operator, two_level_cycle, np.random.random((multilevel.level[0].size, )), 20)\n",
    "        print(\"V({}, {}) conv factor {:.3f}\".format(nu, 1, conv_factor))"
   ]
  },
  {
   "cell_type": "markdown",
   "id": "7616a408-52e0-4e4e-bbef-bdcaaa0cab53",
   "metadata": {},
   "source": [
    "## Level 1 Cycle Convergence Test"
   ]
  },
  {
   "cell_type": "code",
   "execution_count": null,
   "id": "3bea8283-c9c1-4f09-a1fc-a9d3429d4684",
   "metadata": {},
   "outputs": [],
   "source": [
    "m1 = multilevel\n",
    "print(len(multilevel))\n",
    "m1.level = multilevel.sub_hierachy(1)\n",
    "sz = m1.level[0].size\n",
    "\n",
    "np.random.seed(0)\n",
    "x0 = np.random.random((sz, ))\n",
    "b = m1.level.operator(x0)\n",
    "\n",
    "two_level_cycle = lambda x: hm.solve.solve_cycle.solve_cycle(m1, 1.0, 1, 1, rhs=b, num_levels=2, debug=True).run(x)\n",
    "x, conv_factor = hm.solve.run.run_iterative_method(m1.level[0].operator, two_level_cycle, np.random.random((sz, )), 8, print_frequency=1)\n",
    "plt.plot(x)"
   ]
  },
  {
   "cell_type": "code",
   "execution_count": null,
   "id": "cc4b3a66-5d49-4668-a7b8-e5de9b46449d",
   "metadata": {},
   "outputs": [],
   "source": [
    "len(multilevel.level)"
   ]
  },
  {
   "cell_type": "code",
   "execution_count": null,
   "id": "8457dd73-aa56-4b08-b8d2-a04d996356b6",
   "metadata": {},
   "outputs": [],
   "source": [
    "# Calculate eigenpairs at all levels.\n",
    "vl = []\n",
    "laml = []\n",
    "for l, level in enumerate(multilevel.level):\n",
    "    a = level.a\n",
    "    lam, v = eig(a.todense())\n",
    "    lam = np.real(lam)\n",
    "    ind = np.argsort(np.abs(lam))\n",
    "    lam = lam[ind]\n",
    "    v = v[:, ind]\n",
    "    vl.append(v)\n",
    "    laml.append(lam)\n",
    "    print(l, \"lam\", lam[:13])\n",
    "    \n",
    "# Interpolate eigenvectors at all levels to the finest level.\n",
    "num_levels = len(multilevel.level)\n",
    "vl_finest = []\n",
    "for l in range(num_levels):\n",
    "    v = vl[l]\n",
    "    for k in range(l, 0, -1):\n",
    "        v = multilevel.level[k].p.dot(v)\n",
    "    vl_finest.append(v)"
   ]
  },
  {
   "cell_type": "code",
   "execution_count": null,
   "id": "ac8128e9-f14f-487c-877a-b38976e90b63",
   "metadata": {},
   "outputs": [],
   "source": [
    "len(multilevel.level)"
   ]
  },
  {
   "cell_type": "code",
   "execution_count": null,
   "id": "1e67233e-cbd3-4458-83d4-322a973ea6c0",
   "metadata": {},
   "outputs": [],
   "source": [
    "num_ev = 8\n",
    "fig, axs = plt.subplots(num_ev, num_levels + 1, figsize=(16, 16))\n",
    "\n",
    "for col, ax in enumerate(axs[0][:-1]):\n",
    "    ax.set_title(\"Level {}\".format(col))\n",
    "axs[0, -1].set_title(\"Level {} spectrum\".format(num_levels))\n",
    "\n",
    "for i in range(num_ev):\n",
    "    for l in range(num_levels):\n",
    "        ax = axs[i, l]\n",
    "        ax.plot(np.real(vl_finest[l][:, i]), label=\"$\\lambda_i = {:.3f}$\".format(laml[l][i]))\n",
    "        ax.legend(loc=\"upper right\")\n",
    "        ax.grid(True);\n",
    "        \n",
    "composition = (r2.dot(vl[1])).transpose().dot(vl[2])\n",
    "for i in range(num_ev):\n",
    "    ax = axs[i, num_levels]\n",
    "    ax.plot(np.real(composition[:, i]), \"r\", label = \"$v^2_{}$\".format(i))\n",
    "    ax.grid(True)\n",
    "    ax.legend();"
   ]
  },
  {
   "cell_type": "code",
   "execution_count": null,
   "id": "7f81ddf5-2a87-4819-9450-3a7035d0a9f0",
   "metadata": {},
   "outputs": [],
   "source": [
    "pd.DataFrame(multilevel.level[2].p.todense())"
   ]
  },
  {
   "cell_type": "code",
   "execution_count": null,
   "id": "10125c15-b324-4753-827d-53062930c04a",
   "metadata": {},
   "outputs": [],
   "source": [
    "hm.solve.smoothing.check_relax_cycle_shrinkage(\n",
    "    m1, max_sweeps=20,\n",
    "    nu_pre=1, nu_post=1, num_levels=2, nu_coarsest=3, slow_conv_factor=0.95)"
   ]
  },
  {
   "cell_type": "code",
   "execution_count": null,
   "id": "9d43c72e-1e06-45f5-bb82-4f8a72710f53",
   "metadata": {},
   "outputs": [],
   "source": [
    "m1.level[1].size"
   ]
  },
  {
   "cell_type": "code",
   "execution_count": null,
   "id": "0a7546e7-ce8a-44f8-a122-2658cd3c8b8e",
   "metadata": {},
   "outputs": [],
   "source": []
  }
 ],
 "metadata": {
  "hide_input": false,
  "kernelspec": {
   "display_name": "Python 3 (ipykernel)",
   "language": "python",
   "name": "python3"
  },
  "language_info": {
   "codemirror_mode": {
    "name": "ipython",
    "version": 3
   },
   "file_extension": ".py",
   "mimetype": "text/x-python",
   "name": "python",
   "nbconvert_exporter": "python",
   "pygments_lexer": "ipython3",
   "version": "3.9.7"
  }
 },
 "nbformat": 4,
 "nbformat_minor": 5
}
