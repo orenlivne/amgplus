{
 "cells": [
  {
   "cell_type": "markdown",
   "id": "failing-perfume",
   "metadata": {},
   "source": [
    "# Helmholtz 1D: Building The Multilevel Hierarchy, Step-by-Step\n",
    "* Discretization: 5-point (4th order).\n",
    "* Fixed-domain problem; non-repetitive, so we generate TVs over entire domain.\n",
    "* Fix aggregate size to $4$ points. Consider a certain aggregate in the domain (say, the first one).\n",
    "* Observe beahviour vs. $\\nu$:\n",
    "  * Create relaxed TVs with $\\nu$ Kaczmarz relaxation sweeps.\n",
    "  * Create the coarsening operator $R$ using SVD. Observe singular value decay rate.\n",
    "  * Observe two-level mini-cycle convergence factor before slowing down."
   ]
  },
  {
   "cell_type": "markdown",
   "id": "36f9a6bc-e552-4822-8d23-4bd05d2975f8",
   "metadata": {},
   "source": [
    "## Shrinkage Factor\n",
    "Given an iterative method, we can calculate whether it's a good smoothing candidate using the **shrinkage factor** $\\mu$, even before measuring its mock cycle rate (which measures the combination of the smoother andcoarsening operator $R$).\n",
    "\n",
    "* Start from $5$ different random starts $x_0 = rand[-1,1]$, for each  apply the method for $A x = 0$ to obtain iterates $x_1, x_2, \\dots$.\n",
    "* For each iterate, calculate residual norm $r_i := \\|A x_i\\|_2$ and reduction per sweep, $\\mu_i := (r_i / r_0)^{\\frac{1}{i}}$, $i = 1, 2, \\dots$.\n",
    "* Average $\\mu_i$ over the $5$ starts.\n",
    "* Terminate the method at $j = i + 3$, where $i = argmin_i \\mu_i$ and set $\\mu \\leftarrow \\mu_j$."
   ]
  },
  {
   "cell_type": "code",
   "execution_count": 2,
   "id": "fatal-bride",
   "metadata": {},
   "outputs": [],
   "source": [
    "import collections\n",
    "import logging\n",
    "import numpy as np\n",
    "import matplotlib.pyplot as plt\n",
    "import helmholtz as hm\n",
    "import pandas as pd\n",
    "import scipy.sparse\n",
    "import sklearn.metrics.pairwise\n",
    "import sys\n",
    "from numpy.ma.testutils import assert_array_almost_equal\n",
    "from scipy.linalg import eig, norm, svd\n",
    "from scipy.sparse.linalg import eigs\n",
    "from scipy import optimize\n",
    "\n",
    "%load_ext autoreload\n",
    "%autoreload 2\n",
    "\n",
    "np.set_printoptions(linewidth=500, precision=3, suppress=True, threshold=100000)\n",
    "for handler in logging.root.handlers[:]: logging.root.removeHandler(handler)\n",
    "logging.basicConfig(stream=sys.stdout, level=logging.INFO, format=\"%(levelname)-8s %(message)s\",\n",
    "                    datefmt=\"%a, %d %b %Y %H:%M:%S\")\n",
    "\n",
    "logger = logging.getLogger(\"main\")\n",
    "_LOGGER = logger"
   ]
  },
  {
   "cell_type": "code",
   "execution_count": 3,
   "id": "2a9dfed3-c264-489a-9275-5abef457cb99",
   "metadata": {},
   "outputs": [],
   "source": [
    "def check_coarsening(level, aggregate_size: int = 4):\n",
    "    \"\"\"Checks coarsening based on relaxed TVs, for different number of relaxation sweeps.\n",
    "    If aggregate_size is not None, forces that aggregate size for the entire domain.\"\"\"\n",
    "    num_sweeps_values = 5 * 2 ** np.arange(8)\n",
    "\n",
    "    fig, axs = plt.subplots(len(num_sweeps_values), 3, figsize=(16, 3 * len(num_sweeps_values)))\n",
    "    for row, num_sweeps in enumerate(num_sweeps_values):\n",
    "        # Create relaxed TVs.\n",
    "        x = hm.solve.run.run_iterative_method(\n",
    "            level.operator, lambda x: level.relax(x, b), x_random, num_sweeps=num_sweeps)[0]\n",
    "\n",
    "        start, end = 0, aggregate_size\n",
    "        x_aggregate_t = x[start:end].transpose()\n",
    "        r, s = hm.setup.coarsening.create_coarsening(x_aggregate_t, threshold)\n",
    "        r = r.asarray()\n",
    "\n",
    "        # Relaxed vectors.\n",
    "        ax = axs[row, 0]\n",
    "        for i in range(3):\n",
    "            ax.plot(x[:, i]);\n",
    "        ax.grid(True)\n",
    "        ax.set_title(r\"Test Vectors, $\\nu={}$ sweeps\".format(num_sweeps))\n",
    "\n",
    "        ax = axs[row, 1]\n",
    "        # R should be real-valued, but cast just in case.\n",
    "        for i, ri in enumerate(np.real(r)):\n",
    "            ax.plot(ri)\n",
    "        ax.set_title(r\"Agg Size {} $n_c$ {}\".format(r.shape[1], r.shape[0]))\n",
    "        ax.set_ylabel(r\"$R$ rows\")\n",
    "        ax.grid(True);\n",
    "\n",
    "        # Singular values, normalized to sigma_max = 1.\n",
    "        ax = axs[row, 2]\n",
    "        ax.plot(s / s[0], \"rx\")\n",
    "        ax.set_title(\"Singular Values\")\n",
    "        ax.set_xlabel(r\"$k$\")\n",
    "        ax.set_ylabel(r\"$\\sigma_k$\")\n",
    "        ax.grid(True);\n",
    "\n",
    "        print(\"nu\", \"{:2d}\".format(num_sweeps), \"s\", s / s[0], \"Energy error\", (1 - np.cumsum(s ** 2) / sum(s ** 2)) ** 0.5)\n",
    "\n",
    "        # Generate coarse variables (R) on the non-repetitive domain.\n",
    "        r, aggregates, nc, energy_error = hm.setup.coarsening.create_coarsening_domain(x, threshold=threshold,\n",
    "                                                                                           fixed_aggregate_size=aggregate_size)\n",
    "        _LOGGER.info(\"Agg {}\".format(np.array([len(aggregate) for aggregate in aggregates])))\n",
    "        _LOGGER.info(\"nc  {}\".format(nc))\n",
    "        _LOGGER.info(\"Energy error mean {:.4f} max {:.4f}\".format(np.mean(energy_error), np.max(energy_error)))\n",
    "        mock_conv_factor = np.array(\n",
    "            [hm.setup.auto_setup.mock_cycle_conv_factor(level, r, nu) for nu in np.arange(1, 16, dtype=int)])\n",
    "        _LOGGER.info(\"Mock cycle conv factor {}\".format(np.array2string(mock_conv_factor, precision=3)))"
   ]
  },
  {
   "cell_type": "code",
   "execution_count": 4,
   "id": "ca363760-f09e-4ea3-9c3e-81aadf98c2ab",
   "metadata": {},
   "outputs": [],
   "source": [
    "# Fixed seed for reproducible results.\n",
    "np.random.seed(0)\n",
    "\n",
    "# Domain size.\n",
    "n = 96\n",
    "# Scaled wave number.\n",
    "kh = 0.5\n",
    "\n",
    "# Number of test vectors.\n",
    "num_examples = 20\n",
    "threshold = 0.1\n",
    "\n",
    "# Boottstrapping parameters.\n",
    "threshold = 0.1\n",
    "interpolation_method = \"ls\"\n",
    "num_test_examples = 5"
   ]
  },
  {
   "cell_type": "markdown",
   "id": "09e51279-8734-442c-88db-462f5b1edaab",
   "metadata": {},
   "source": [
    "## Level 0->1 Coarsening"
   ]
  },
  {
   "cell_type": "markdown",
   "id": "10a77b33-41f8-4b8e-b930-b1111f783374",
   "metadata": {},
   "source": [
    "### Relaxation Shrinkage Factor"
   ]
  },
  {
   "cell_type": "code",
   "execution_count": 5,
   "id": "68b90d7d-a93c-4c7e-bacd-19b5f15e878f",
   "metadata": {},
   "outputs": [
    {
     "name": "stdout",
     "output_type": "stream",
     "text": [
      "kh 0\n",
      "INFO     Iter     |r|                         |x|         RER\n",
      "INFO     0     1.406e+00                    4.468e-01    3.139\n",
      "INFO     1     7.628e-01 (0.544) [0.544]    3.342e-01    2.288 (0.728)\n",
      "INFO     2     4.353e-01 (0.572) [0.558]    2.811e-01    1.561 (0.682)\n",
      "INFO     3     2.723e-01 (0.627) [0.580]    2.539e-01    1.086 (0.695)\n",
      "INFO     4     1.864e-01 (0.686) [0.606]    2.380e-01    0.795 (0.732)\n",
      "INFO     5     1.391e-01 (0.746) [0.632]    2.276e-01    0.622 (0.782)\n",
      "INFO     6     1.117e-01 (0.803) [0.658]    2.201e-01    0.516 (0.831)\n",
      "INFO     7     9.389e-02 (0.840) [0.681]    2.144e-01    0.444 (0.863)\n",
      "INFO     8     8.141e-02 (0.867) [0.702]    2.099e-01    0.393 (0.886)\n",
      "INFO     9     7.202e-02 (0.884) [0.720]    2.062e-01    0.353 (0.900)\n",
      "INFO     10    6.475e-02 (0.898) [0.737]    2.030e-01    0.322 (0.912)\n",
      "INFO     11    5.896e-02 (0.910) [0.751]    2.004e-01    0.296 (0.922)\n",
      "INFO     12    5.425e-02 (0.919) [0.764]    1.980e-01    0.276 (0.930)\n",
      "INFO     13    5.034e-02 (0.927) [0.775]    1.960e-01    0.258 (0.937)\n",
      "INFO     14    4.702e-02 (0.933) [0.786]    1.941e-01    0.243 (0.942)\n",
      "INFO     15    4.418e-02 (0.939) [0.795]    1.925e-01    0.230 (0.947)\n",
      "INFO     16    4.171e-02 (0.943) [0.804]    1.910e-01    0.219 (0.951)\n",
      "INFO     17    3.955e-02 (0.947) [0.812]    1.896e-01    0.209 (0.954)\n",
      "INFO     18    3.765e-02 (0.951) [0.819]    1.883e-01    0.200 (0.957)\n",
      "INFO     19    3.595e-02 (0.954) [0.825]    1.872e-01    0.192 (0.960)\n",
      "INFO     20    3.444e-02 (0.957) [0.832]    1.861e-01    0.185 (0.963)\n",
      "Kac        RER at point of diminishing returns 0.14 num_sweeps  5 work  1 residual-per-sweep 0.54\n",
      "INFO     Iter     |r|                         |x|         RER\n",
      "INFO     0     1.351e+00                    4.469e-01    3.024\n",
      "INFO     1     5.312e-01 (0.394) [0.394]    2.765e-01    1.930 (0.637)\n",
      "INFO     2     2.239e-01 (0.422) [0.408]    2.093e-01    1.081 (0.560)\n",
      "INFO     3     1.023e-01 (0.458) [0.424]    1.792e-01    0.580 (0.537)\n",
      "INFO     4     5.333e-02 (0.521) [0.446]    1.630e-01    0.334 (0.575)\n",
      "INFO     5     3.196e-02 (0.599) [0.474]    1.527e-01    0.214 (0.641)\n",
      "INFO     6     2.149e-02 (0.671) [0.502]    1.455e-01    0.152 (0.706)\n",
      "INFO     7     1.579e-02 (0.734) [0.530]    1.401e-01    0.116 (0.764)\n",
      "INFO     8     1.228e-02 (0.777) [0.556]    1.359e-01    0.093 (0.803)\n",
      "INFO     9     9.933e-03 (0.809) [0.580]    1.324e-01    0.077 (0.832)\n",
      "INFO     10    8.271e-03 (0.833) [0.601]    1.295e-01    0.066 (0.853)\n",
      "INFO     11    7.040e-03 (0.852) [0.621]    1.270e-01    0.057 (0.870)\n",
      "INFO     12    6.093e-03 (0.866) [0.638]    1.248e-01    0.051 (0.882)\n",
      "INFO     13    5.345e-03 (0.878) [0.654]    1.229e-01    0.045 (0.893)\n",
      "INFO     14    4.742e-03 (0.888) [0.668]    1.211e-01    0.041 (0.901)\n",
      "INFO     15    4.248e-03 (0.896) [0.681]    1.195e-01    0.037 (0.909)\n",
      "INFO     16    3.837e-03 (0.904) [0.694]    1.181e-01    0.034 (0.915)\n",
      "INFO     17    3.492e-03 (0.910) [0.705]    1.168e-01    0.031 (0.921)\n",
      "INFO     18    3.198e-03 (0.916) [0.715]    1.156e-01    0.029 (0.926)\n",
      "INFO     19    2.946e-03 (0.921) [0.725]    1.144e-01    0.027 (0.931)\n",
      "INFO     20    2.729e-03 (0.926) [0.734]    1.133e-01    0.025 (0.935)\n",
      "GS         RER at point of diminishing returns 0.05 num_sweeps  4 work  1 residual-per-sweep 0.37\n",
      "kh 0.5\n",
      "INFO     Iter     |r|                         |x|         RER\n",
      "INFO     0     1.354e+00                    4.470e-01    3.025\n",
      "INFO     1     7.412e-01 (0.548) [0.548]    3.379e-01    2.202 (0.726)\n",
      "INFO     2     4.271e-01 (0.577) [0.563]    2.891e-01    1.492 (0.676)\n",
      "INFO     3     2.626e-01 (0.616) [0.580]    2.654e-01    1.003 (0.672)\n",
      "INFO     4     1.756e-01 (0.669) [0.602]    2.522e-01    0.708 (0.706)\n",
      "INFO     5     1.284e-01 (0.731) [0.626]    2.436e-01    0.537 (0.757)\n",
      "INFO     6     1.020e-01 (0.795) [0.651]    2.374e-01    0.438 (0.816)\n",
      "INFO     7     8.627e-02 (0.845) [0.676]    2.325e-01    0.378 (0.864)\n",
      "INFO     8     7.586e-02 (0.879) [0.699]    2.284e-01    0.338 (0.896)\n",
      "INFO     9     6.852e-02 (0.903) [0.719]    2.249e-01    0.310 (0.918)\n",
      "INFO     10    6.306e-02 (0.920) [0.737]    2.217e-01    0.289 (0.934)\n",
      "INFO     11    5.885e-02 (0.933) [0.753]    2.189e-01    0.273 (0.946)\n",
      "INFO     12    5.544e-02 (0.942) [0.767]    2.164e-01    0.260 (0.954)\n",
      "INFO     13    5.261e-02 (0.949) [0.780]    2.140e-01    0.250 (0.960)\n",
      "INFO     14    5.020e-02 (0.954) [0.791]    2.118e-01    0.241 (0.964)\n",
      "INFO     15    4.813e-02 (0.958) [0.801]    2.098e-01    0.233 (0.968)\n",
      "INFO     16    4.630e-02 (0.962) [0.811]    2.078e-01    0.226 (0.971)\n",
      "INFO     17    4.469e-02 (0.965) [0.819]    2.060e-01    0.220 (0.974)\n",
      "INFO     18    4.326e-02 (0.968) [0.827]    2.042e-01    0.214 (0.976)\n",
      "INFO     19    4.197e-02 (0.970) [0.834]    2.026e-01    0.210 (0.978)\n",
      "INFO     20    4.080e-02 (0.972) [0.840]    2.010e-01    0.205 (0.980)\n",
      "Kac        RER at point of diminishing returns 0.10 num_sweeps  6 work  1 residual-per-sweep 0.57\n",
      "INFO     Iter     |r|                         |x|         RER\n",
      "INFO     0     1.365e+00                    4.467e-01    3.060\n",
      "INFO     1     5.723e-01 (0.420) [0.420]    3.033e-01    1.897 (0.619)\n",
      "INFO     2     2.546e-01 (0.445) [0.432]    2.810e-01    0.915 (0.482)\n",
      "INFO     3     1.305e-01 (0.512) [0.458]    3.059e-01    0.431 (0.471)\n",
      "INFO     4     9.307e-02 (0.713) [0.512]    3.526e-01    0.265 (0.619)\n",
      "INFO     5     9.402e-02 (1.007) [0.586]    4.154e-01    0.226 (0.855)\n",
      "INFO     6     1.095e-01 (1.163) [0.657]    4.952e-01    0.221 (0.976)\n",
      "GS         RER at point of diminishing returns 0.13 num_sweeps  3 work  1 residual-per-sweep 0.35\n"
     ]
    },
    {
     "data": {
      "image/png": "[encoded data removed]",
      "text/plain": [
       "<Figure size 864x288 with 2 Axes>"
      ]
     },
     "metadata": {
      "needs_background": "light"
     },
     "output_type": "display_data"
    }
   ],
   "source": [
    "kh_values = [0, 0.5]\n",
    "fig, axs = plt.subplots(1, len(kh_values), figsize=(12, 4))\n",
    "\n",
    "kaczmarz = lambda a: hm.solve.relax.KaczmarzRelaxer(a, scipy.sparse.eye(a.shape[0]))\n",
    "gs = lambda a: hm.solve.relax.GsRelaxer(a)\n",
    "work = 1\n",
    "\n",
    "# Kaczmarz.\n",
    "for kh_value, ax in zip(kh_values, axs):\n",
    "    print(\"kh\", kh_value)\n",
    "    a_kh = hm.linalg.helmholtz_1d_5_point_operator(kh_value, n).tocsr()\n",
    "    operator = lambda x: a_kh.dot(x)\n",
    "\n",
    "    for title, relax, color in zip((\"Kac\", \"GS\"), (kaczmarz, gs), (\"blue\", \"red\")):\n",
    "        method = relax(a_kh)\n",
    "        factor, num_sweeps, residual, conv, rer, relax_conv_factor = hm.solve.smoothing.shrinkage_factor(\n",
    "            operator, lambda x, b: method.step(x, b), (a_kh.shape[0], ), \n",
    "            print_frequency=1, max_sweeps=20, slow_conv_factor=1.1)\n",
    "        hm.solve.smoothing.plot_diminishing_returns_point(factor, num_sweeps, conv, ax, title=title, color=color)\n",
    "        print(\"{:<10s} RER at point of diminishing returns {:.2f} num_sweeps {:>2d} work {:>2d} residual-per-sweep {:.2f}\".format(\n",
    "            title, np.mean(residual[num_sweeps]), num_sweeps, work, np.mean(residual[num_sweeps] / rer[0]) ** (1/(num_sweeps * work))))\n",
    "    \n",
    "    ax.set_title(r\"$kh = {:.2f}$\".format(kh_value))\n",
    "    ax.legend()"
   ]
  },
  {
   "cell_type": "markdown",
   "id": "bc6d8cb5-0318-48e8-aa7d-7634e3ae6407",
   "metadata": {
    "tags": []
   },
   "source": [
    "The point of diminishing returns in each scatterplot is circled.\n",
    "\n",
    "This estimate seems to give a reasonable estimate for both $kh$ values and both relaxation schemes (albeit not a quantitative smoothing factor, which can only be defined based on a coarsening), showing that GS is a better smoother for both $kh = 0, 0.5$, but slightly diverges for $kh = 0.5$. The RER at the point of diminishing returns is much smaller.\n",
    "\n",
    "Averaging over multiple random starts helps reduce noise, as well as assuming a constant reduction per sweep in the initial sweeps (as opposed to a linear model, say). We are only interested in a rough estimate."
   ]
  },
  {
   "cell_type": "markdown",
   "id": "16d8ea80-45ed-47b0-aa8e-85fcdc5526e6",
   "metadata": {},
   "source": [
    "### Coarsening Quality\n",
    "We measure the gap between the second and third singular values as a function of the number of TV relaxation sweeps $\\nu$. We force the aggregate size to be $4$."
   ]
  },
  {
   "cell_type": "code",
   "execution_count": 6,
   "id": "2e221b74-3315-4384-ae18-7f161bd036b9",
   "metadata": {},
   "outputs": [],
   "source": [
    "a = hm.linalg.helmholtz_1d_5_point_operator(kh, n).tocsr()\n",
    "level = hm.setup.hierarchy.create_finest_level(a)\n",
    "x_random = hm.solve.run.random_test_matrix((a.shape[0],), num_examples=num_examples)\n",
    "b = np.zeros_like(x_random)"
   ]
  },
  {
   "cell_type": "code",
   "execution_count": 7,
   "id": "7773af8c-0e99-4b8c-ac85-2aa9cb423704",
   "metadata": {},
   "outputs": [
    {
     "ename": "AttributeError",
     "evalue": "module 'helmholtz.setup' has no attribute 'coarsening'",
     "output_type": "error",
     "traceback": [
      "\u001b[0;31m---------------------------------------------------------------------------\u001b[0m",
      "\u001b[0;31mAttributeError\u001b[0m                            Traceback (most recent call last)",
      "\u001b[0;32m/var/folders/3k/z6rf4cwj2b1bs57qshd9j_k4fbwv1r/T/ipykernel_29069/2257233378.py\u001b[0m in \u001b[0;36m<module>\u001b[0;34m\u001b[0m\n\u001b[0;32m----> 1\u001b[0;31m \u001b[0mcheck_coarsening\u001b[0m\u001b[0;34m(\u001b[0m\u001b[0mlevel\u001b[0m\u001b[0;34m,\u001b[0m \u001b[0;36m4\u001b[0m\u001b[0;34m)\u001b[0m\u001b[0;34m\u001b[0m\u001b[0;34m\u001b[0m\u001b[0m\n\u001b[0m",
      "\u001b[0;32m/var/folders/3k/z6rf4cwj2b1bs57qshd9j_k4fbwv1r/T/ipykernel_29069/2517497365.py\u001b[0m in \u001b[0;36mcheck_coarsening\u001b[0;34m(level, aggregate_size)\u001b[0m\n\u001b[1;32m     12\u001b[0m         \u001b[0mstart\u001b[0m\u001b[0;34m,\u001b[0m \u001b[0mend\u001b[0m \u001b[0;34m=\u001b[0m \u001b[0;36m0\u001b[0m\u001b[0;34m,\u001b[0m \u001b[0maggregate_size\u001b[0m\u001b[0;34m\u001b[0m\u001b[0;34m\u001b[0m\u001b[0m\n\u001b[1;32m     13\u001b[0m         \u001b[0mx_aggregate_t\u001b[0m \u001b[0;34m=\u001b[0m \u001b[0mx\u001b[0m\u001b[0;34m[\u001b[0m\u001b[0mstart\u001b[0m\u001b[0;34m:\u001b[0m\u001b[0mend\u001b[0m\u001b[0;34m]\u001b[0m\u001b[0;34m.\u001b[0m\u001b[0mtranspose\u001b[0m\u001b[0;34m(\u001b[0m\u001b[0;34m)\u001b[0m\u001b[0;34m\u001b[0m\u001b[0;34m\u001b[0m\u001b[0m\n\u001b[0;32m---> 14\u001b[0;31m         \u001b[0mr\u001b[0m\u001b[0;34m,\u001b[0m \u001b[0ms\u001b[0m \u001b[0;34m=\u001b[0m \u001b[0mhm\u001b[0m\u001b[0;34m.\u001b[0m\u001b[0msetup\u001b[0m\u001b[0;34m.\u001b[0m\u001b[0mcoarsening\u001b[0m\u001b[0;34m.\u001b[0m\u001b[0mcreate_coarsening\u001b[0m\u001b[0;34m(\u001b[0m\u001b[0mx_aggregate_t\u001b[0m\u001b[0;34m,\u001b[0m \u001b[0mthreshold\u001b[0m\u001b[0;34m)\u001b[0m\u001b[0;34m\u001b[0m\u001b[0;34m\u001b[0m\u001b[0m\n\u001b[0m\u001b[1;32m     15\u001b[0m         \u001b[0mr\u001b[0m \u001b[0;34m=\u001b[0m \u001b[0mr\u001b[0m\u001b[0;34m.\u001b[0m\u001b[0masarray\u001b[0m\u001b[0;34m(\u001b[0m\u001b[0;34m)\u001b[0m\u001b[0;34m\u001b[0m\u001b[0;34m\u001b[0m\u001b[0m\n\u001b[1;32m     16\u001b[0m \u001b[0;34m\u001b[0m\u001b[0m\n",
      "\u001b[0;31mAttributeError\u001b[0m: module 'helmholtz.setup' has no attribute 'coarsening'"
     ]
    },
    {
     "data": {
      "image/png": "[encoded data removed]",
      "text/plain": [
       "<Figure size 1152x1728 with 24 Axes>"
      ]
     },
     "metadata": {
      "needs_background": "light"
     },
     "output_type": "display_data"
    }
   ],
   "source": [
    "check_coarsening(level, 4)"
   ]
  },
  {
   "cell_type": "code",
   "execution_count": null,
   "id": "49cd45c0-c069-47ac-8488-30d706df2b70",
   "metadata": {},
   "outputs": [],
   "source": [
    "check_coarsening(level, 6)"
   ]
  },
  {
   "cell_type": "markdown",
   "id": "d630cb7c-8303-464d-9ef4-95063520d214",
   "metadata": {},
   "source": [
    "The gap $\\sigma_2 - \\sigma_3$ increases with $\\nu$, showing that an aggregate size of $4$ is fine (we can obtain an energy error as small as we want given a large enough $\\nu$)."
   ]
  },
  {
   "cell_type": "markdown",
   "id": "2065cab5-5772-4cb6-9a38-e623ecfce1e0",
   "metadata": {},
   "source": [
    "### Two-level Bootstrapping"
   ]
  },
  {
   "cell_type": "code",
   "execution_count": null,
   "id": "4c5163b8-56d3-4349-8f04-7fba7292a7ae",
   "metadata": {},
   "outputs": [],
   "source": [
    "max_levels = 2\n",
    "num_bootstrap_steps = 1\n",
    "num_sweeps = 10\n",
    "fixed_aggregate_size = None # 6\n",
    "\n",
    "x_log = []\n",
    "r_log = []\n",
    "\n",
    "# Initialize hierarchy to 1-level and fine-level test functions to random.\n",
    "finest = 0\n",
    "multilevel = hm.hierarchy.multilevel.Multilevel(level)\n",
    "\n",
    "_LOGGER.info(\"Relax at level {} size {}\".format(finest, level.size))\n",
    "b = np.zeros((a.shape[0], num_examples))\n",
    "_, relax_conv_factor = hm.solve.run.run_iterative_method(\n",
    "    level.operator, lambda x: level.relax(x, b), \n",
    "    hm.solve.run.random_test_matrix((a.shape[0],), num_examples=num_examples), num_sweeps=100)\n",
    "_LOGGER.info(\"Relax convergence factor {:.3f}\".format(relax_conv_factor))\n",
    "\n",
    "# TODO(orenlivne): generalize to d-dimensions. This is specific to 1D.\n",
    "x = hm.solve.run.random_test_matrix((a.shape[0],), num_examples=num_examples)\n",
    "# Improve vectors with 1-level relaxation.\n",
    "x_log.append(x)\n",
    "\n",
    "_LOGGER.info(\"Generating TVs with {} sweeps\".format(num_sweeps))\n",
    "x, _ = hm.solve.run.run_iterative_method(\n",
    "    level.operator, lambda x: level.relax(x, b), x, num_sweeps=num_sweeps)\n",
    "_LOGGER.info(\"RER {:.3f}\".format(norm(a.dot(x)) / norm(x)))\n",
    "x_log.append(x)\n",
    "\n",
    "# Bootstrap with an increasingly deeper hierarchy (add one level at a time).\n",
    "num_levels = 2\n",
    "_LOGGER.info(\"bootstrap on grid size {} with {} levels\".format(x.shape[0], max_levels))\n",
    "_LOGGER.info(\"-\" * 80)\n",
    "for i in range(num_bootstrap_steps):\n",
    "    _LOGGER.info(\"Bootstrap step {}/{}\".format(i + 1, num_bootstrap_steps))\n",
    "    # Set relax_conv_factor to a high value so that we never append a bootstrap vector to the TV set.\n",
    "    x, multilevel = hm.setup.auto_setup.bootstap(\n",
    "        x, multilevel, num_levels, 2.0,\n",
    "        num_sweeps=num_sweeps, interpolation_method=interpolation_method, \n",
    "        threshold=threshold, fixed_aggregate_size=fixed_aggregate_size)\n",
    "    x_log.append(x)\n",
    "    r_log.append(multilevel.level[1].r)\n",
    "    _LOGGER.info(\"RER {:.6f}\".format(norm(a.dot(x)) / norm(x)))\n",
    "    _LOGGER.info(\"-\" * 80)"
   ]
  },
  {
   "cell_type": "markdown",
   "id": "889a8fb4-4b1b-4b4e-9fc8-6f7edad2c751",
   "metadata": {},
   "source": [
    "### Relaxation Cycle Shrinkage\n",
    "We compare relaxation cycle with $\\nu_1=2, \\nu_2=2, \\nu_{coarse}=20$ with the resulting $P$ and $R$ from the bootstrap step, with Kaczmarz relaxation."
   ]
  },
  {
   "cell_type": "code",
   "execution_count": null,
   "id": "41236d4e-a5c9-47a6-9ca6-fde1cd7d3189",
   "metadata": {},
   "outputs": [],
   "source": [
    "hm.solve.smoothing.check_relax_cycle_shrinkage(multilevel, nu_coarsest=20)"
   ]
  },
  {
   "cell_type": "markdown",
   "id": "8c0a2cbf-c729-42bc-9c35-53d0d5e020c2",
   "metadata": {},
   "source": [
    "Even though per work unit it is about the same (the mini-cycle is $6$ relaxations worth), the two-level relaxation cycle reduces the RER much more than Kaczmarz until the point of diminishing returns.\n",
    "\n",
    "As expected, both methods are asymptotically slow (probably the same rate of convergence)."
   ]
  },
  {
   "cell_type": "markdown",
   "id": "1e9b4cda-cd2b-46e2-bb8d-fe7f951aded1",
   "metadata": {},
   "source": [
    "### Effect of a Second Bootstrap Cycle"
   ]
  },
  {
   "cell_type": "code",
   "execution_count": null,
   "id": "de6366c6-95b5-4b22-b685-39e4fab43b37",
   "metadata": {},
   "outputs": [],
   "source": [
    "x, multilevel = hm.setup.auto_setup.bootstap(\n",
    "    x, multilevel, num_levels, 2.0,\n",
    "    num_sweeps=num_sweeps, interpolation_method=interpolation_method, threshold=threshold)\n",
    "x_log.append(x)\n",
    "r_log.append(multilevel.level[1].r)\n",
    "_LOGGER.info(\"RER {:.3f}\".format(norm(a.dot(x)) / norm(x)))"
   ]
  },
  {
   "cell_type": "code",
   "execution_count": null,
   "id": "73a78ec7-b0c1-4c62-9087-a18933889e74",
   "metadata": {},
   "outputs": [],
   "source": [
    "hm.solve.smoothing.check_relax_cycle_shrinkage(multilevel)"
   ]
  },
  {
   "cell_type": "markdown",
   "id": "f24f9d08-df1d-47a4-ab41-f00778e8bf3f",
   "metadata": {},
   "source": [
    "Looks like the final RER obtained with a relaxation cycle after one and two bootstrap cycles is the same, so we didn't make it worse."
   ]
  },
  {
   "cell_type": "markdown",
   "id": "ead05348-170e-4f90-bf97-f9e9d1ca3c9e",
   "metadata": {},
   "source": [
    "### Effect of Bootstrap on $R$'s Singular Values"
   ]
  },
  {
   "cell_type": "code",
   "execution_count": null,
   "id": "75a02978-28b1-48e2-80a3-2b760bed3618",
   "metadata": {},
   "outputs": [],
   "source": [
    "# Create a final R from the most updated TVs.\n",
    "x_fit, x_test = x[:, :-num_test_examples], x[:, -num_test_examples:]\n",
    "\n",
    "# Create the coarsening operator R.\n",
    "r, aggregates, nc, energy_error = hm.setup.coarsening.create_coarsening_domain(x_fit, threshold=threshold)\n",
    "r_log.append(r)"
   ]
  },
  {
   "cell_type": "code",
   "execution_count": null,
   "id": "7d748fa6-3fc7-4dcc-86b6-0df2ed26d7e6",
   "metadata": {},
   "outputs": [],
   "source": [
    "aggregate_size = 4\n",
    "fig, axs = plt.subplots(len(x_log), 3, figsize=(16, 3 * len(x_log)))\n",
    "for row, x in enumerate(x_log):\n",
    "    start, end = 0, aggregate_size\n",
    "    x_aggregate_t = x[start:end].transpose()\n",
    "    r, s = hm.setup.coarsening.create_coarsening(x_aggregate_t, threshold)\n",
    "    r = r.asarray()\n",
    "\n",
    "    # Relaxed vectors.\n",
    "    ax = axs[row, 0]\n",
    "    for i in range(3):\n",
    "        ax.plot(x[:, i]);\n",
    "    ax.grid(True)\n",
    "    ax.set_title(r\"Test Vectors at Step {}\".format(row))\n",
    "\n",
    "    ax = axs[row, 1]\n",
    "    # R should be real-valued, but cast just in case.\n",
    "    for i, ri in enumerate(np.real(r)):\n",
    "        ax.plot(ri)\n",
    "    ax.set_title(r\"Agg Size {} $n_c$ {}\".format(r.shape[1], r.shape[0]))\n",
    "    ax.set_ylabel(r\"$R$ rows\")\n",
    "    ax.grid(True);\n",
    "\n",
    "    # Singular values, normalized to sigma_max = 1.\n",
    "    ax = axs[row, 2]\n",
    "    ax.plot(s / s[0], \"rx\")\n",
    "    ax.set_title(\"Singular Values\")\n",
    "    ax.set_xlabel(r\"$k$\")\n",
    "    ax.set_ylabel(r\"$\\sigma_k$\")\n",
    "    ax.grid(True);\n",
    "    \n",
    "    print(\"Step {:2d}\".format(row), \"s\", s / s[0], \"Energy error\", (1 - np.cumsum(s ** 2) / sum(s ** 2)) ** 0.5)"
   ]
  },
  {
   "cell_type": "markdown",
   "id": "13570b46-ff2f-4d57-99c5-85255d84afc0",
   "metadata": {},
   "source": [
    "With bootstrap cycles, the smoother the TVs and the better the singular value separation: $R$ is improved."
   ]
  },
  {
   "cell_type": "code",
   "execution_count": null,
   "id": "273d7a65-a370-49bc-b56b-1a2dc8eee675",
   "metadata": {},
   "outputs": [],
   "source": [
    "# Save fine-level TVs.\n",
    "x_fine = x"
   ]
  },
  {
   "cell_type": "markdown",
   "id": "d984b180-0dd4-40e1-90dd-bfbbdedb91b1",
   "metadata": {},
   "source": [
    "## Level 1->2 Coarsening\n",
    "Are the equations at level 1 harder to solve than level 0 because of worse smoothing rates? Do we see a good coarsening ratio for an aggregate of size $4$ here too?"
   ]
  },
  {
   "cell_type": "code",
   "execution_count": null,
   "id": "efd9c302-68ef-42b5-b6f0-7918e7ec3dec",
   "metadata": {},
   "outputs": [],
   "source": [
    "level = multilevel.level[1]\n",
    "a = level.a\n",
    "x_random = hm.solve.run.random_test_matrix((a.shape[0],), num_examples=num_examples)\n",
    "b = np.zeros_like(x_random)"
   ]
  },
  {
   "cell_type": "markdown",
   "id": "133ff870-2b78-4ca0-84c9-7ce1dad737b2",
   "metadata": {},
   "source": [
    "### Relaxation Shrinkage Factor"
   ]
  },
  {
   "cell_type": "code",
   "execution_count": null,
   "id": "650947b7-aa5d-45bf-ae11-d40ddb76bace",
   "metadata": {},
   "outputs": [],
   "source": [
    "kaczmarz = lambda a: hm.solve.relax.KaczmarzRelaxer(a, scipy.sparse.eye(a.shape[0]))\n",
    "gs = lambda a: hm.solve.relax.GsRelaxer(a)\n",
    "work = 1\n",
    "\n",
    "fig, ax = plt.subplots(1, 1, figsize=(6, 4))\n",
    "\n",
    "# Kaczmarz.\n",
    "operator = lambda x: a.dot(x)\n",
    "for title, relax, color in zip((\"Kac\", ), (kaczmarz, ), (\"blue\", )):\n",
    "    method = relax(a)\n",
    "    factor, num_sweeps, rer, conv = hm.solve.smoothing.shrinkage_factor(\n",
    "        operator, lambda x, b: method.step(x, b), (a.shape[0], ), print_frequency=1, max_sweeps=20, slow_conv_factor=2, num_examples=1)\n",
    "    hm.solve.smoothing.plot_diminishing_returns_point(factor, num_sweeps, conv, ax, title=title, color=color)\n",
    "    print(\"{:<10s} RER at point of diminishing returns {:.2f} num_sweeps {:>2d} work {:>2d} RER-per-sweep {:.2f}\".format(\n",
    "        title, np.mean(rer[num_sweeps]), num_sweeps, work, np.mean(rer[num_sweeps] / rer[0]) ** (1/(num_sweeps * work))))\n",
    "\n",
    "ax.set_title(r\"$kh = {:.2f}$\".format(kh_value))\n",
    "ax.legend();"
   ]
  },
  {
   "cell_type": "markdown",
   "id": "2cfa8255-97d9-46ff-b889-fa3efe612dcb",
   "metadata": {},
   "source": [
    "Kaczmarz slows down more quickly here than on level 1. GS diverges."
   ]
  },
  {
   "cell_type": "markdown",
   "id": "c071e7fb-a825-4f61-81e8-8dee06e7a77f",
   "metadata": {},
   "source": [
    "### $R$ for Aggregate Size = 4"
   ]
  },
  {
   "cell_type": "code",
   "execution_count": null,
   "id": "a8e874ef-28c5-460b-9870-290a4bcaff15",
   "metadata": {},
   "outputs": [],
   "source": [
    "check_coarsening(level, 4)"
   ]
  },
  {
   "cell_type": "markdown",
   "id": "88f97445-a087-4ca1-b56e-b2e24233df00",
   "metadata": {},
   "source": [
    "It looks like it takes a lot more relaxation sweeps to see $2$ components in a size $4$ aggregate here. Mock cycle rates are also worse."
   ]
  },
  {
   "cell_type": "markdown",
   "id": "02629c15-8e96-4e0b-87a4-b907e8eaa6e9",
   "metadata": {},
   "source": [
    "### $R$ for Aggregate Size = 6"
   ]
  },
  {
   "cell_type": "code",
   "execution_count": null,
   "id": "729c5adb-10cd-4a90-94ed-d911326e63b5",
   "metadata": {},
   "outputs": [],
   "source": [
    "check_coarsening(level, 6)"
   ]
  },
  {
   "cell_type": "markdown",
   "id": "cb0e96ff-267f-4318-9f38-a52bcc490e5d",
   "metadata": {},
   "source": [
    "One can obtain a good coarsening here too (in terms of coarsening ratio and mock cycle rates), with an aggregate size of $6$ and $3$ coarse variables. Note that this requires less smoothing ($\\nu = 40$) than for an aggregate size of $4$, where we stll $3$ PCs until $\\nu$ is much larger ($320$). Thus, a general criterion would find the larger aggregate size.\n",
    "\n",
    "The mock cycle rates are worse than for level 0, but we can still obtain improvement when more relaxations per cycle are added. Convergence of $0.2$ is obtained for $11$ relaxations per cycle, as opposed to $3$ at level 0."
   ]
  },
  {
   "cell_type": "markdown",
   "id": "22077e9f-91d4-4871-9bce-7d0bc9955cd4",
   "metadata": {},
   "source": [
    "### $R$ with Dynamic Aggregate Size"
   ]
  },
  {
   "cell_type": "code",
   "execution_count": null,
   "id": "6908da70-7fe7-46bd-b628-9c13459f302d",
   "metadata": {},
   "outputs": [],
   "source": [
    "check_coarsening(level, None)"
   ]
  },
  {
   "cell_type": "markdown",
   "id": "26daff38-b358-48f7-a7cb-505526e0686d",
   "metadata": {},
   "source": [
    "### Two-level Bootstrapping"
   ]
  },
  {
   "cell_type": "code",
   "execution_count": null,
   "id": "ea8f65f0-4d75-430c-b718-99be2c73c513",
   "metadata": {},
   "outputs": [],
   "source": [
    "num_examples = 30\n",
    "max_levels = 2\n",
    "num_bootstrap_steps = 3\n",
    "num_sweeps = 20\n",
    "\n",
    "x_log = []\n",
    "r_log = []\n",
    "\n",
    "# Initialize hierarchy to 1-level and fine-level test functions to random.\n",
    "finest = 0\n",
    "multilevel = hm.hierarchy.multilevel.Multilevel(level)\n",
    "\n",
    "_LOGGER.info(\"Relax at level {} size {}\".format(finest, level.size))\n",
    "b = np.zeros((a.shape[0], num_examples))\n",
    "_, relax_conv_factor = hm.solve.run.run_iterative_method(\n",
    "    level.operator, lambda x: level.relax(x, b), \n",
    "    hm.solve.run.random_test_matrix((a.shape[0],), num_examples=num_examples), num_sweeps=100)\n",
    "_LOGGER.info(\"Relax convergence factor {:.3f}\".format(relax_conv_factor))\n",
    "\n",
    "# Start from random again. Level 0 doesn't exist here.\n",
    "x = hm.solve.run.random_test_matrix((a.shape[0],), num_examples=num_examples)\n",
    "x_log.append(x)\n",
    "\n",
    "# Improve vectors with 1-level relaxation.\n",
    "_LOGGER.info(\"Generating TVs with {} sweeps\".format(num_sweeps))\n",
    "x, _ = hm.solve.run.run_iterative_method(\n",
    "    level.operator, lambda x: level.relax(x, b), x, num_sweeps=num_sweeps)\n",
    "_LOGGER.info(\"RER {:.3f}\".format(norm(a.dot(x)) / norm(x)))\n",
    "x_log.append(x)\n",
    "\n",
    "# Bootstrap with an increasingly deeper hierarchy (add one level at a time).\n",
    "num_levels = 2\n",
    "_LOGGER.info(\"bootstrap on grid size {} with {} levels\".format(x.shape[0], max_levels))\n",
    "_LOGGER.info(\"-\" * 80)\n",
    "for i in range(num_bootstrap_steps):\n",
    "    _LOGGER.info(\"Bootstrap step {}/{}\".format(i + 1, num_bootstrap_steps))\n",
    "    # Set relax_conv_factor to a high value so that we never append a bootstrap vector to the TV set.\n",
    "    x, multilevel = hm.setup.auto_setup.bootstap(\n",
    "        x, multilevel, num_levels, 2.0,\n",
    "        num_sweeps=num_sweeps, interpolation_method=interpolation_method, threshold=threshold)\n",
    "    x_log.append(x)\n",
    "    r_log.append(multilevel.level[1].r)\n",
    "    _LOGGER.info(\"RER {:.6f}\".format(norm(a.dot(x)) / norm(x)))\n",
    "    _LOGGER.info(\"-\" * 80)"
   ]
  },
  {
   "cell_type": "code",
   "execution_count": null,
   "id": "34c31202-7643-4a7a-ad9a-1f1961252f8c",
   "metadata": {},
   "outputs": [],
   "source": [
    "# Create a final R from the most updated TVs.\n",
    "x_fit, x_test = x[:, :-num_test_examples], x[:, -num_test_examples:]\n",
    "\n",
    "# Create the coarsening operator R.\n",
    "r, aggregates, nc, energy_error = hm.setup.coarsening.create_coarsening_domain(x_fit, threshold=threshold)\n",
    "r_log.append(r)"
   ]
  },
  {
   "cell_type": "code",
   "execution_count": null,
   "id": "105f9bf6-65f7-4cb1-acea-cc046c4ca54d",
   "metadata": {},
   "outputs": [],
   "source": [
    "aggregate_size = 4\n",
    "fig, axs = plt.subplots(len(x_log), 3, figsize=(16, 3 * len(x_log)))\n",
    "for row, x in enumerate(x_log):\n",
    "    start, end = 0, aggregate_size\n",
    "    x_aggregate_t = x[start:end].transpose()\n",
    "    r, s = hm.setup.coarsening.create_coarsening(x_aggregate_t, threshold)\n",
    "    r = r.asarray()\n",
    "\n",
    "    # Relaxed vectors.\n",
    "    ax = axs[row, 0]\n",
    "    for i in range(3):\n",
    "        ax.plot(x[:, i]);\n",
    "    ax.grid(True)\n",
    "    ax.set_title(r\"Test Vectors at Step {}\".format(row))\n",
    "\n",
    "    ax = axs[row, 1]\n",
    "    # R should be real-valued, but cast just in case.\n",
    "    for i, ri in enumerate(np.real(r)):\n",
    "        ax.plot(ri)\n",
    "    ax.set_title(r\"Agg Size {} $n_c$ {}\".format(r.shape[1], r.shape[0]))\n",
    "    ax.set_ylabel(r\"$R$ rows\")\n",
    "    ax.grid(True);\n",
    "\n",
    "    # Singular values, normalized to sigma_max = 1.\n",
    "    ax = axs[row, 2]\n",
    "    ax.plot(s / s[0], \"rx\")\n",
    "    ax.set_title(\"Singular Values\")\n",
    "    ax.set_xlabel(r\"$k$\")\n",
    "    ax.set_ylabel(r\"$\\sigma_k$\")\n",
    "    ax.grid(True);\n",
    "    \n",
    "    print(\"Step {:2d}\".format(row), \"s\", s / s[0], \"Energy error\", (1 - np.cumsum(s ** 2) / sum(s ** 2)) ** 0.5)"
   ]
  },
  {
   "cell_type": "markdown",
   "id": "8e0e2196-3794-4068-a67d-4f5b1a5ccfdc",
   "metadata": {},
   "source": [
    "Here we also observe that the singular value gap increases with bootsrap cycles, but no longer monotonically (it is noisy)."
   ]
  },
  {
   "cell_type": "code",
   "execution_count": null,
   "id": "b5aa8096-0bc7-4324-96c2-e08d372bdedd",
   "metadata": {},
   "outputs": [],
   "source": [
    "hm.solve.smoothing.check_relax_cycle_shrinkage(multilevel, max_sweeps=100)"
   ]
  },
  {
   "cell_type": "markdown",
   "id": "e97b13ee-75a4-4a0e-97e0-a0129a7358b1",
   "metadata": {},
   "source": [
    "## Questions\n",
    "* Why aren't level 1 TVs getting smoother with bootstrap cycles? Their RER oscillates wildly between cycles even though the interpolation error is good (see cycle 2->3).\n",
    "* Need a lot more examples (30 instead of 20) on level 1 because apparently there are up to 12 interpolation points in the stencil (if a large enough aggregate is chosen)."
   ]
  }
 ],
 "metadata": {
  "hide_input": false,
  "kernelspec": {
   "display_name": "Python 3 (ipykernel)",
   "language": "python",
   "name": "python3"
  },
  "language_info": {
   "codemirror_mode": {
    "name": "ipython",
    "version": 3
   },
   "file_extension": ".py",
   "mimetype": "text/x-python",
   "name": "python",
   "nbconvert_exporter": "python",
   "pygments_lexer": "ipython3",
   "version": "3.9.7"
  }
 },
 "nbformat": 4,
 "nbformat_minor": 5
}
