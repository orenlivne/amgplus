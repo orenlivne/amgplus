{
 "cells": [
  {
   "cell_type": "markdown",
   "id": "86aa8404-6d28-497b-b9d3-707071d347fe",
   "metadata": {},
   "source": [
    "# Stencil Interpretation\n",
    "We can interpret a stencil, say, a symmetric 5-point stencil $A = [a, b, c, b, a]$, as a differential oprator approximation, by using the Taylor expansion\n",
    "\n",
    "$$ u(x + \\delta h) = u(x) + \\delta h u'(x) + \\frac12 \\delta^2 h^2 u''(x) + \\frac16 \\delta^3 h^3 u'''(x) + O(h^4)\\,. $$\n",
    "\n",
    "For the stencil,\n",
    "\\begin{equation}\n",
    "\\begin{split}\n",
    "(A u)(x) &=& \\, a (u(x - 2h) + u(x + 2h)) + b (u(x - h) + u(x + h)) + c u(x) \\\\\n",
    "         &=& \\, (c + 2 a + 2 b) u(x) + (4 a + b) h^2 u''(x) + O(h^4) \\\\\n",
    "         &=& \\, (4 a + b) h^2 \\left(u''(x) + \\frac{c + 2 a + 2 b}{4 a + b} \\frac{1}{h^2} u(x) +  O(h^2) \\right)\\,.\n",
    "\\end{split}\n",
    "\\end{equation}\n",
    "\n",
    "Thus, the stencil is $(\\geq 2)$th-order approximation to $const \\cdot h^2 (\\partial_{xx} + k^2) u(x)$, where\n",
    "\n",
    "$$ k h = \\left( \\frac{c + 2 a + 2 b}{4 a + b} \\right)^{\\frac12} \\,. $$\n",
    "\n",
    "### Finite-difference approximations to $\\partial{xx} + k^2$\n",
    "* 3-point, 2nd order: $[0, 1, -2 + (kh)^2, 1, 0]$.\n",
    "* 5-point, 4th order: $[-.083, 1.33, -2.5 + (kh)^2, 1.33, -0.083]$."
   ]
  },
  {
   "cell_type": "markdown",
   "id": "22445514-ea33-44b9-b2cc-2f47c60dde9c",
   "metadata": {},
   "source": [
    "## Karsten's Stencils - Effective $kh$\n",
    "Note: Karsten uses $-\\partial_{xx} - k^2$."
   ]
  },
  {
   "cell_type": "code",
   "execution_count": 89,
   "id": "a88d7613-b298-4953-a404-b12d8fb8a654",
   "metadata": {},
   "outputs": [],
   "source": [
    "import helmholtz as hm\n",
    "import matplotlib.pyplot as plt\n",
    "import numpy as np\n",
    "\n",
    "def effective_kh(a, b, c):\n",
    "    return ((c + 2 * a + 2 * b) / (4 * a + b)) ** 0.5"
   ]
  },
  {
   "cell_type": "code",
   "execution_count": 91,
   "id": "a604fcba-50ad-4d8d-b959-6fca8e9ac1fe",
   "metadata": {},
   "outputs": [
    {
     "name": "stdout",
     "output_type": "stream",
     "text": [
      "Level 0 effective kh 0.523\n",
      "Level 1 effective kh 0.947\n",
      "Level 2 effective kh 1.388\n",
      "Level 3 effective kh 1.634\n",
      "Level 4 effective kh 1.423\n"
     ]
    }
   ],
   "source": [
    "karsten_stencil = [\n",
    "    [ 0.083, -1.333,  2.226],  # R = [1, 1]\n",
    "    [-0.042, -0.239,  0.197],  # R = [1, 1]\n",
    "    [-0.092, -0.403, -0.495],  # R = [1, -1]\n",
    "    [ 0.007,  0.160,  0.168],  # R = [1, -1]\n",
    "    [-0.029, -0.153, -0.181],  # No R, but test R=[1, -1] if relaxation is slow.\n",
    "]\n",
    "\n",
    "for level, (a, b, c) in enumerate(karsten_stencil):\n",
    "    print(\"Level {} effective kh {:.3f}\".format(level, effective_kh(a, b, c)))"
   ]
  },
  {
   "cell_type": "markdown",
   "id": "f2fb7278-2ed3-43ea-93cf-9a3c1f0e6470",
   "metadata": {},
   "source": [
    "Level 1 has a $9\\%$ error in the value of the \"exact\" value $2 k h$, where $k h$ is the level 0 value."
   ]
  },
  {
   "cell_type": "markdown",
   "id": "70981ae1-44fe-46ae-832e-61e18788a902",
   "metadata": {},
   "source": [
    "## Very Coarse Levels - When does operator turn definite?\n",
    "The 3-point stencil becomes diagonal-dominant and positive-definite when $kh$ crosses $2$: $-2 + (k h)^2 = 2$, $A = [1, 2, 1]$. For the 5-point stencil, this occurs at a higher $kh \\approx 2.31$."
   ]
  },
  {
   "cell_type": "code",
   "execution_count": 81,
   "id": "b6f5ceff-dfb7-484f-851b-d7214c0f124b",
   "metadata": {},
   "outputs": [],
   "source": [
    "n = 96\n",
    "kh_values = np.linspace(0, 2.5, 101)\n",
    "discretization_values = (\"3-point\", \"5-point\")\n",
    "fraction_nonnegative_eigenvalues = dict(\n",
    "    (discretization, \n",
    "     np.array([\n",
    "         len(np.where(np.linalg.eig(hm.linalg.helmholtz_1d_discrete_operator(kh, discretization, n).todense())[0] >= 0)[0]) / n\n",
    "         for kh in kh_values])\n",
    "    ) for discretization in discretization_values)"
   ]
  },
  {
   "cell_type": "code",
   "execution_count": 94,
   "id": "20530c3a-9e65-4452-a5f8-fc3a3672fb7a",
   "metadata": {},
   "outputs": [
    {
     "data": {
      "image/png": "[encoded data removed]",
      "text/plain": [
       "<Figure size 432x288 with 1 Axes>"
      ]
     },
     "metadata": {
      "needs_background": "light"
     },
     "output_type": "display_data"
    }
   ],
   "source": [
    "fig, axs = plt.subplots(1, 1, figsize=(6, 4))\n",
    "\n",
    "ax = axs #axs[0]\n",
    "for discretization in discretization_values:\n",
    "    ax.plot(kh_values, fraction_nonnegative_eigenvalues[discretization], \n",
    "            label=\"{}, critical $kh \\\\approx {:.3f}$\".format(\n",
    "                discretization, kh_values[min(np.where(fraction_nonnegative_eigenvalues[discretization] > .99)[0])]))\n",
    "ax.set_title(\"$h^2 \\partial_{xx} + (kh)^2$ Definiteness Measure\")\n",
    "ax.set_xlabel(\"$kh$\")\n",
    "ax.set_ylabel(\"Fraction of Positive Eigenvalues\")\n",
    "ax.grid()\n",
    "ax.legend();"
   ]
  }
 ],
 "metadata": {
  "hide_input": false,
  "kernelspec": {
   "display_name": "Python 3 (ipykernel)",
   "language": "python",
   "name": "python3"
  },
  "language_info": {
   "codemirror_mode": {
    "name": "ipython",
    "version": 3
   },
   "file_extension": ".py",
   "mimetype": "text/x-python",
   "name": "python",
   "nbconvert_exporter": "python",
   "pygments_lexer": "ipython3",
   "version": "3.9.7"
  }
 },
 "nbformat": 4,
 "nbformat_minor": 5
}
